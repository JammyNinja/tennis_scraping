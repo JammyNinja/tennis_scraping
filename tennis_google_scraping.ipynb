{
 "cells": [
  {
   "cell_type": "code",
   "execution_count": 30,
   "id": "f42467ca",
   "metadata": {
    "ExecuteTime": {
     "end_time": "2023-05-29T15:59:13.213953Z",
     "start_time": "2023-05-29T15:59:13.206923Z"
    }
   },
   "outputs": [],
   "source": [
    "#imports to keep\n",
    "import requests\n",
    "from bs4 import BeautifulSoup\n",
    "\n",
    "from selenium import webdriver\n",
    "from selenium.webdriver.chrome.options import Options\n",
    "from selenium.webdriver.support.select import Select #to click with\n",
    "from selenium.webdriver.common.by import By #to find with\n",
    "from selenium.webdriver.support.wait import WebDriverWait\n",
    "\n",
    "import chromedriver_binary"
   ]
  },
  {
   "cell_type": "code",
   "execution_count": 207,
   "id": "a90c35f5",
   "metadata": {
    "ExecuteTime": {
     "end_time": "2023-05-29T19:15:21.990460Z",
     "start_time": "2023-05-29T19:15:21.985119Z"
    }
   },
   "outputs": [],
   "source": [
    "#surely shouldn't be hardcoding\n",
    "URL = \"https://www.google.com/search?q=roland+garros\"\n",
    "cookie_button_class_list = [\"QS5gu\", \"sy4vM\"] #\".\"join for driver - not sure for soup... #split?\n",
    "score_class_list = \"tsp-fr tsp-fs tsp-cpd tsp-cbd\".split() #[\"tsp-fr\", \"tsp-fs\", \"tsp-cpd\", \"tsp cbd\"] \n",
    "player_name_class_list = \"tsp-nd tsp-db tsp-el\".split() #pasted"
   ]
  },
  {
   "cell_type": "code",
   "execution_count": 173,
   "id": "e14fa245",
   "metadata": {
    "ExecuteTime": {
     "end_time": "2023-05-29T18:45:49.140773Z",
     "start_time": "2023-05-29T18:45:48.374864Z"
    }
   },
   "outputs": [],
   "source": [
    "def init_driver():\n",
    "    options = Options()\n",
    "    options.add_argument(\"--headless\")\n",
    "    driver = webdriver.Chrome(options=options)\n",
    "    return driver\n",
    "\n",
    "driver = init_driver()"
   ]
  },
  {
   "cell_type": "code",
   "execution_count": 174,
   "id": "380d1dcf",
   "metadata": {
    "ExecuteTime": {
     "end_time": "2023-05-29T18:45:56.132235Z",
     "start_time": "2023-05-29T18:45:53.953578Z"
    },
    "scrolled": true
   },
   "outputs": [
    {
     "name": "stdout",
     "output_type": "stream",
     "text": [
      "clicked the Reject all button\n"
     ]
    }
   ],
   "source": [
    "def get_through_cookie_popup(driver):\n",
    "    \n",
    "    driver.get(URL)\n",
    "    elements = driver.find_elements(By.CLASS_NAME, \".\".join(cookie_button_class_list) )\n",
    "    #print(elements)\n",
    "\n",
    "    elem_to_click = None\n",
    "    for e in elements:\n",
    "        #print(e.text.lower())\n",
    "\n",
    "        if \"reject all\" in e.text.lower():#.startswith(\"reject all\"):\n",
    "            elem_to_click = e\n",
    "\n",
    "            \n",
    "    if elem_to_click is not None:\n",
    "        #now click the reject button\n",
    "        print(f\"clicked the {elem_to_click.text} button\")\n",
    "        driver.execute_script(\"arguments[0].click();\", elem_to_click)\n",
    "    else:\n",
    "        return None\n",
    "    \n",
    "    return driver\n",
    "\n",
    "driver = init_driver()\n",
    "driver = get_through_cookie_popup(driver)"
   ]
  },
  {
   "cell_type": "code",
   "execution_count": 191,
   "id": "3b1e8b35",
   "metadata": {
    "ExecuteTime": {
     "end_time": "2023-05-29T19:05:54.606699Z",
     "start_time": "2023-05-29T19:05:54.193384Z"
    },
    "scrolled": true
   },
   "outputs": [],
   "source": [
    "soup = BeautifulSoup(driver.page_source, \"html.parser\")\n",
    "temp = soup.find_all(\"div\", class_=score_class_list)\n",
    "# print(len(temp))\n",
    "#print(temp);"
   ]
  },
  {
   "cell_type": "code",
   "execution_count": null,
   "id": "cdf68f74",
   "metadata": {},
   "outputs": [],
   "source": []
  },
  {
   "cell_type": "code",
   "execution_count": 229,
   "id": "041f8043",
   "metadata": {
    "ExecuteTime": {
     "end_time": "2023-05-29T19:20:14.532203Z",
     "start_time": "2023-05-29T19:20:14.175867Z"
    }
   },
   "outputs": [
    {
     "name": "stdout",
     "output_type": "stream",
     "text": [
      "found 26 scorecards\n",
      "<div class=\"tsp-fr tsp-fs tsp-cpd tsp-cbd\" jsname=\"HNKBQd\">\n",
      " <div class=\"tsp-led\" role=\"button\" tabindex=\"0\">\n",
      "  <div>\n",
      "   <div>\n",
      "    <div class=\"tsp-w tsp-dib tsp-fs tsp-eds\">\n",
      "     <div class=\"tsp-di\">\n",
      "      <div class=\"tsp-di\">\n",
      "       <span class=\"tsp-fm\">\n",
      "        First round\n",
      "       </span>\n",
      "       <span class=\"tsp-fl tsp-sp\" role=\"separator\">\n",
      "        ·\n",
      "       </span>\n",
      "       <span class=\"tsp-lo\">\n",
      "        Philippe-Chatrier\n",
      "       </span>\n",
      "      </div>\n",
      "     </div>\n",
      "     <div class=\"tsp-sts tsp-pr\">\n",
      "      <span class=\"tsp-sis tsp-frs tsp-dnil tsp-lv\" style=\"height:16px;line-height:16px;width:16px;fill:currentColor\">\n",
      "       <svg style=\"display:block;height:100%;width:100%\" viewbox=\"0 0 24 24\" xmlns=\"http://www.w3.org/2000/svg\">\n",
      "        <path d=\"M10 6L8.59 7.41 13.17 12l-4.58 4.59L10 18l6-6z\">\n",
      "        </path>\n",
      "        <path d=\"M0 0h24v24H0z\" fill=\"none\">\n",
      "        </path>\n",
      "       </svg>\n",
      "      </span>\n",
      "      <span class=\"tsp-lv tsp-fm\">\n",
      "       Live\n",
      "      </span>\n",
      "      <div class=\"imso_li__live-ind-mask\">\n",
      "       <div class=\"imso_li__live-ind-wrap\">\n",
      "        <div class=\"imso_li__live-ind-var\">\n",
      "        </div>\n",
      "       </div>\n",
      "      </div>\n",
      "     </div>\n",
      "    </div>\n",
      "   </div>\n",
      "  </div>\n",
      "  <div class=\"\">\n",
      "   <table class=\"tsp-flr tsp-tpt tsp-tbl\">\n",
      "    <colgroup>\n",
      "     <col class=\"tsp-flc\"/>\n",
      "     <col class=\"tsp-cs\"/>\n",
      "     <col class=\"tsp-w tsp-flr tsp-nm\"/>\n",
      "     <col class=\"tsp-flr tsp-st\"/>\n",
      "     <col class=\"tsp-flr tsp-st\"/>\n",
      "     <col class=\"tsp-gc\"/>\n",
      "     <col class=\"tsp-mi\"/>\n",
      "    </colgroup>\n",
      "    <tbody>\n",
      "     <tr class=\"tsp-sg\">\n",
      "      <th class=\"tsp-flc\" role=\"rowheader\">\n",
      "       <div>\n",
      "        <img alt=\"Italy\" class=\"tsp-vm\" height=\"24\" role=\"img\" src=\"//ssl.gstatic.com/onebox/media/sports/logos/joYpsiaYi4GDCqhSRAq5Zg_48x48.png\"/>\n",
      "       </div>\n",
      "      </th>\n",
      "      <td class=\"tsp-cs\">\n",
      "       <span class=\"tsp-fs tsp-lo\">\n",
      "        8\n",
      "       </span>\n",
      "      </td>\n",
      "      <td class=\"tsp-w tsp-flr tsp-nm\">\n",
      "       <div>\n",
      "        <span class=\"tsp-nd tsp-db tsp-el\">\n",
      "         J. Sinner\n",
      "        </span>\n",
      "       </div>\n",
      "      </td>\n",
      "      <td class=\"tsp-flr tsp-st\">\n",
      "       <div class=\"tsp-nf\">\n",
      "        <span>\n",
      "         6\n",
      "        </span>\n",
      "       </div>\n",
      "      </td>\n",
      "      <td class=\"tsp-flr tsp-st\">\n",
      "       <div class=\"tsp-nf\">\n",
      "        <span>\n",
      "         2\n",
      "        </span>\n",
      "       </div>\n",
      "      </td>\n",
      "      <td class=\"tsp-gc\">\n",
      "       <span class=\"tsp-g tsp-fs tsp-fm\">\n",
      "        0\n",
      "       </span>\n",
      "      </td>\n",
      "      <td class=\"tsp-mi\">\n",
      "       <span class=\"tsp-sv\">\n",
      "       </span>\n",
      "      </td>\n",
      "     </tr>\n",
      "     <tr class=\"tsp-sg\">\n",
      "      <th class=\"tsp-flc\" role=\"rowheader\">\n",
      "       <div>\n",
      "        <img alt=\"France\" class=\"tsp-vm\" height=\"24\" role=\"img\" src=\"//ssl.gstatic.com/onebox/media/sports/logos/z3JEQB3coEAGLCJBEUzQ2A_48x48.png\"/>\n",
      "       </div>\n",
      "      </th>\n",
      "      <td class=\"tsp-cs\">\n",
      "      </td>\n",
      "      <td class=\"tsp-w tsp-flr tsp-nm\">\n",
      "       <div>\n",
      "        <span class=\"tsp-nd tsp-db tsp-el\">\n",
      "         A. Muller\n",
      "        </span>\n",
      "       </div>\n",
      "      </td>\n",
      "      <td class=\"tsp-flr tsp-st\">\n",
      "       <div class=\"tsp-nf\">\n",
      "        <span class=\"tsp-lo\">\n",
      "         1\n",
      "        </span>\n",
      "       </div>\n",
      "      </td>\n",
      "      <td class=\"tsp-flr tsp-st\">\n",
      "       <div class=\"tsp-nf\">\n",
      "        <span>\n",
      "         1\n",
      "        </span>\n",
      "       </div>\n",
      "      </td>\n",
      "      <td class=\"tsp-gc\">\n",
      "       <span class=\"tsp-g tsp-fs tsp-fm\">\n",
      "        0\n",
      "       </span>\n",
      "      </td>\n",
      "      <td class=\"tsp-mi\">\n",
      "       <span class=\"tsp-em\">\n",
      "       </span>\n",
      "      </td>\n",
      "     </tr>\n",
      "    </tbody>\n",
      "   </table>\n",
      "  </div>\n",
      " </div>\n",
      " <div role=\"button\" tabindex=\"0\">\n",
      "  <div>\n",
      "   <a class=\"tsp-ci tsp-lntd\" href=\"https://www.eurosport.com/tennis/roland-garros/2023/french-open-2023-jannik-sinner-takes-opening-point-against-alexandre-muller-in-first-round-match_vid1921638/video.shtml\">\n",
      "    <div class=\"tsp-vc\">\n",
      "     <div class=\"tsp-vct\">\n",
      "      <span class=\"tsp-flr tsp-dib\">\n",
      "       Video highlights\n",
      "      </span>\n",
      "      <span role=\"separator\">\n",
      "       ·\n",
      "      </span>\n",
      "      <span class=\"tsp-fs tsp-lo tsp-dib\">\n",
      "       22 min ago\n",
      "      </span>\n",
      "     </div>\n",
      "     <div class=\"tsp-tvt\" style=\"max-height: 41px; min-width: 74px;\">\n",
      "      <div>\n",
      "       <div class=\"VrVlic\">\n",
      "        <img alt=\"\" class=\"Jrnjfd\" src=\"//ssl.gstatic.com/onebox/media/sports/videos/vita/SGdKj6O7litROprO_96x54.jpg\" style=\"height: 41px; width: 74px;\"/>\n",
      "        <div class=\"tsp-tca\">\n",
      "         <div class=\"OvpUqc\">\n",
      "          <div class=\"tsp-tcat\">\n",
      "           French Open 2023: Jannik Sinner takes opening point against Alexandre Muller in first round match · 0:39\n",
      "          </div>\n",
      "         </div>\n",
      "        </div>\n",
      "       </div>\n",
      "      </div>\n",
      "     </div>\n",
      "    </div>\n",
      "   </a>\n",
      "  </div>\n",
      " </div>\n",
      "</div>\n"
     ]
    }
   ],
   "source": [
    "def get_all_scorecards(html):\n",
    "    #score_class_list = [\"tsp-fr\", \"tsp-fs\", \"tsp-cpd\", \"tsp cbd\"]\n",
    "    soup = BeautifulSoup(html, \"html.parser\")\n",
    "    match_divs = soup.find_all(\"div\", class_ =score_class_list)\n",
    "    \n",
    "    #every other div corresponds to a game, also ignores last text about times in uk time\n",
    "    return match_divs[::2]\n",
    "\n",
    "scorecards = get_all_scorecards(driver.page_source)\n",
    "print(f\"found {len(scorecards)} scorecards\")\n",
    "print(scorecards[0].prettify())"
   ]
  },
  {
   "cell_type": "code",
   "execution_count": 227,
   "id": "21258aba",
   "metadata": {
    "ExecuteTime": {
     "end_time": "2023-05-29T19:18:49.418501Z",
     "start_time": "2023-05-29T19:18:49.407679Z"
    },
    "scrolled": true
   },
   "outputs": [
    {
     "name": "stdout",
     "output_type": "stream",
     "text": [
      "J.C. Shang\n",
      "J. Varillas\n"
     ]
    },
    {
     "data": {
      "text/plain": [
       "['J.C. Shang', 'J. Varillas']"
      ]
     },
     "execution_count": 227,
     "metadata": {},
     "output_type": "execute_result"
    }
   ],
   "source": [
    "def get_player_names_from_scorecard(score_html):\n",
    "    names = []\n",
    "    #name_class_list = \"tsp-nd tsp-db tsp-el\".split()\n",
    "\n",
    "    for div in score_html:\n",
    "        spans = div.find_all(\"span\", class_ = player_name_class_list)\n",
    "        for s in spans:\n",
    "            print(s.contents[0])\n",
    "            names.append(s.contents[0])\n",
    "    return names\n",
    "\n",
    "\n",
    "get_player_names_from_scorecard(scorecards[-4])"
   ]
  },
  {
   "cell_type": "code",
   "execution_count": 221,
   "id": "fff124ad",
   "metadata": {
    "ExecuteTime": {
     "end_time": "2023-05-29T19:18:03.556279Z",
     "start_time": "2023-05-29T19:18:03.512605Z"
    }
   },
   "outputs": [
    {
     "data": {
      "text/plain": [
       "[<div class=\"tsp-fr tsp-fs tsp-cpd tsp-cbd\" jsname=\"HNKBQd\"><div class=\"tsp-led\" role=\"button\" tabindex=\"0\"><div><div><div class=\"tsp-w tsp-dib tsp-fs tsp-eds\"><div class=\"tsp-di\"><div class=\"tsp-di\"><span class=\"tsp-fm\">First round</span><span class=\"tsp-fl tsp-sp\" role=\"separator\">·</span><span class=\"tsp-lo\">Philippe-Chatrier</span></div></div><div class=\"tsp-sts tsp-pr\"><span class=\"tsp-sis tsp-frs tsp-dnil tsp-lv\" style=\"height:16px;line-height:16px;width:16px;fill:currentColor\"><svg style=\"display:block;height:100%;width:100%\" viewbox=\"0 0 24 24\" xmlns=\"http://www.w3.org/2000/svg\"><path d=\"M10 6L8.59 7.41 13.17 12l-4.58 4.59L10 18l6-6z\"></path><path d=\"M0 0h24v24H0z\" fill=\"none\"></path></svg></span><span class=\"tsp-lv tsp-fm\">Live</span><div class=\"imso_li__live-ind-mask\"><div class=\"imso_li__live-ind-wrap\"><div class=\"imso_li__live-ind-var\"></div></div></div></div></div></div></div><div class=\"\"><table class=\"tsp-flr tsp-tpt tsp-tbl\"><colgroup><col class=\"tsp-flc\"/><col class=\"tsp-cs\"/><col class=\"tsp-w tsp-flr tsp-nm\"/><col class=\"tsp-flr tsp-st\"/><col class=\"tsp-flr tsp-st\"/><col class=\"tsp-gc\"/><col class=\"tsp-mi\"/></colgroup><tbody><tr class=\"tsp-sg\"><th class=\"tsp-flc\" role=\"rowheader\"><div><img alt=\"Italy\" class=\"tsp-vm\" height=\"24\" role=\"img\" src=\"//ssl.gstatic.com/onebox/media/sports/logos/joYpsiaYi4GDCqhSRAq5Zg_48x48.png\"/></div></th><td class=\"tsp-cs\"><span class=\"tsp-fs tsp-lo\">8</span></td><td class=\"tsp-w tsp-flr tsp-nm\"><div><span class=\"tsp-nd tsp-db tsp-el\">J. Sinner</span></div></td><td class=\"tsp-flr tsp-st\"><div class=\"tsp-nf\"><span>6</span></div></td><td class=\"tsp-flr tsp-st\"><div class=\"tsp-nf\"><span>2</span></div></td><td class=\"tsp-gc\"><span class=\"tsp-g tsp-fs tsp-fm\">40</span></td><td class=\"tsp-mi\"><span class=\"tsp-em\"></span></td></tr><tr class=\"tsp-sg\"><th class=\"tsp-flc\" role=\"rowheader\"><div><img alt=\"France\" class=\"tsp-vm\" height=\"24\" role=\"img\" src=\"//ssl.gstatic.com/onebox/media/sports/logos/z3JEQB3coEAGLCJBEUzQ2A_48x48.png\"/></div></th><td class=\"tsp-cs\"></td><td class=\"tsp-w tsp-flr tsp-nm\"><div><span class=\"tsp-nd tsp-db tsp-el\">A. Muller</span></div></td><td class=\"tsp-flr tsp-st\"><div class=\"tsp-nf\"><span class=\"tsp-lo\">1</span></div></td><td class=\"tsp-flr tsp-st\"><div class=\"tsp-nf\"><span>0</span></div></td><td class=\"tsp-gc\"><span class=\"tsp-g tsp-fs tsp-fm\">A</span></td><td class=\"tsp-mi\"><span class=\"tsp-sv\"></span></td></tr></tbody></table></div></div><div role=\"button\" tabindex=\"0\"><div><a class=\"tsp-ci tsp-lntd\" href=\"https://www.eurosport.com/tennis/roland-garros/2023/french-open-2023-jannik-sinner-takes-opening-point-against-alexandre-muller-in-first-round-match_vid1921638/video.shtml\"><div class=\"tsp-vc\"><div class=\"tsp-vct\"><span class=\"tsp-flr tsp-dib\">Video highlights</span><span role=\"separator\"> · </span><span class=\"tsp-fs tsp-lo tsp-dib\">20 min ago</span></div><div class=\"tsp-tvt\" style=\"max-height: 41px; min-width: 74px;\"><div><div class=\"VrVlic\"><img alt=\"\" class=\"Jrnjfd\" src=\"//ssl.gstatic.com/onebox/media/sports/videos/vita/SGdKj6O7litROprO_96x54.jpg\" style=\"height: 41px; width: 74px;\"/><div class=\"tsp-tca\"><div class=\"OvpUqc\"><div class=\"tsp-tcat\">French Open 2023: Jannik Sinner takes opening point against Alexandre Muller in first round match · 0:39</div></div></div></div></div></div></div></a></div></div></div>,\n",
       " <div class=\"tsp-fr tsp-fs tsp-cpd tsp-cbd\" jsname=\"HNKBQd\"><div class=\"tsp-led\" role=\"button\" tabindex=\"0\"><div><div><div class=\"tsp-w tsp-dib tsp-fs tsp-eds\"><div class=\"tsp-di\"><div class=\"tsp-di\"><span class=\"tsp-fm\">First round</span><span class=\"tsp-fl tsp-sp\" role=\"separator\">·</span><span class=\"tsp-lo\">Court  14</span></div></div><div class=\"tsp-sts tsp-pr\"><span class=\"tsp-sis tsp-frs tsp-dnil tsp-lv\" style=\"height:16px;line-height:16px;width:16px;fill:currentColor\"><svg style=\"display:block;height:100%;width:100%\" viewbox=\"0 0 24 24\" xmlns=\"http://www.w3.org/2000/svg\"><path d=\"M10 6L8.59 7.41 13.17 12l-4.58 4.59L10 18l6-6z\"></path><path d=\"M0 0h24v24H0z\" fill=\"none\"></path></svg></span><span class=\"tsp-lv tsp-fm\">Live</span><div class=\"imso_li__live-ind-mask\"><div class=\"imso_li__live-ind-wrap\"><div class=\"imso_li__live-ind-var\"></div></div></div></div></div></div></div><div class=\"tsp-tres\"><table class=\"tsp-flr tsp-tpt tsp-tbl\"><colgroup><col class=\"tsp-flc\"/><col class=\"tsp-cs\"/><col class=\"tsp-w tsp-flr tsp-nm\"/><col class=\"tsp-flr tsp-st\"/><col class=\"tsp-flr tsp-st\"/><col class=\"tsp-flr tsp-st\"/><col class=\"tsp-gc\"/><col class=\"tsp-mi\"/></colgroup><tbody><tr class=\"tsp-sg\"><th class=\"tsp-flc\" role=\"rowheader\"><div><img alt=\"France\" class=\"tsp-vm\" height=\"24\" role=\"img\" src=\"//ssl.gstatic.com/onebox/media/sports/logos/z3JEQB3coEAGLCJBEUzQ2A_48x48.png\"/></div></th><td class=\"tsp-cs\"></td><td class=\"tsp-w tsp-flr tsp-nm\"><div><span class=\"tsp-nd tsp-db tsp-el\">L. Van Assche</span></div></td><td class=\"tsp-flr tsp-st\"><div class=\"tsp-nf\"><span>6</span></div></td><td class=\"tsp-flr tsp-st\"><div class=\"tsp-nf\"><span>6</span></div></td><td class=\"tsp-flr tsp-st\"><div class=\"tsp-nf\"><span>4</span></div></td><td class=\"tsp-gc\"><span class=\"tsp-g tsp-fs tsp-fm\">15</span></td><td class=\"tsp-mi\"><span class=\"tsp-em\"></span></td></tr><tr class=\"tsp-sg\"><th class=\"tsp-flc\" role=\"rowheader\"><div><img alt=\"Italy\" class=\"tsp-vm\" height=\"24\" role=\"img\" src=\"//ssl.gstatic.com/onebox/media/sports/logos/joYpsiaYi4GDCqhSRAq5Zg_48x48.png\"/></div></th><td class=\"tsp-cs\"></td><td class=\"tsp-w tsp-flr tsp-nm\"><div><span class=\"tsp-nd tsp-db tsp-el\">M. Cecchinato</span></div></td><td class=\"tsp-flr tsp-st\"><div class=\"tsp-nf\"><span class=\"tsp-lo\">1</span></div></td><td class=\"tsp-flr tsp-st\"><div class=\"tsp-nf\"><span class=\"tsp-lo\">1</span></div></td><td class=\"tsp-flr tsp-st\"><div class=\"tsp-nf\"><span>2</span></div></td><td class=\"tsp-gc\"><span class=\"tsp-g tsp-fs tsp-fm\">0</span></td><td class=\"tsp-mi\"><span class=\"tsp-sv\"></span></td></tr></tbody></table></div></div></div>,\n",
       " <div class=\"tsp-fr tsp-fs tsp-cpd tsp-cbd\" jsname=\"HNKBQd\"><div class=\"tsp-led\" role=\"button\" tabindex=\"0\"><div><div><div class=\"tsp-w tsp-dib tsp-fs tsp-eds\"><div class=\"tsp-di\"><div class=\"tsp-di\"><span class=\"tsp-fm\">First round</span><span class=\"tsp-fl tsp-sp\" role=\"separator\">·</span><span class=\"tsp-lo\">Court 5</span></div></div><div class=\"tsp-sts tsp-pr\"><span class=\"tsp-sis tsp-frs tsp-dnil\" style=\"height:16px;line-height:16px;width:16px;fill:currentColor\"><svg style=\"display:block;height:100%;width:100%\" viewbox=\"0 0 24 24\" xmlns=\"http://www.w3.org/2000/svg\"><path d=\"M10 6L8.59 7.41 13.17 12l-4.58 4.59L10 18l6-6z\"></path><path d=\"M0 0h24v24H0z\" fill=\"none\"></path></svg></span><span>Walkover</span></div></div></div></div><div class=\"tsp-tres\"><table class=\"tsp-flr tsp-tpt tsp-tbl\"><colgroup><col class=\"tsp-flc\"/><col class=\"tsp-cs\"/><col class=\"tsp-w tsp-flr tsp-nm\"/><col class=\"tsp-flr tsp-st\"/><col class=\"tsp-flr tsp-st\"/><col class=\"tsp-mi\"/></colgroup><tbody><tr class=\"tsp-sg\"><th class=\"tsp-flc\" role=\"rowheader\"><div><img alt=\"China\" class=\"tsp-vm\" data-atf=\"1\" data-frt=\"0\" height=\"24\" role=\"img\" src=\"//ssl.gstatic.com/onebox/media/sports/logos/8Cr5Gw-79PpIX2rIEZ7Pvg_48x48.png\"/></div></th><td class=\"tsp-cs\"></td><td class=\"tsp-w tsp-flr tsp-nm\"><div><span class=\"tsp-nd tsp-db tsp-el\">Z. Zhang</span></div></td><td class=\"tsp-flr tsp-st\"><div class=\"tsp-nf\"><span>6</span></div></td><td class=\"tsp-flr tsp-st\"><div class=\"tsp-nf\"><span>4</span></div></td><td class=\"tsp-mi\"><span class=\"tsp-wi\"></span></td></tr><tr class=\"tsp-sg\"><th class=\"tsp-flc\" role=\"rowheader\"><div><img alt=\"Serbia\" class=\"tsp-vm\" data-atf=\"1\" data-frt=\"0\" height=\"24\" role=\"img\" src=\"//ssl.gstatic.com/onebox/media/sports/logos/xyh1vmZ-xJH2iJCKjqS1Ow_48x48.png\"/></div></th><td class=\"tsp-cs\"></td><td class=\"tsp-w tsp-flr tsp-nm\"><div><span class=\"tsp-nd tsp-db tsp-el tsp-lo\">D. Lajović</span></div></td><td class=\"tsp-flr tsp-st\"><div class=\"tsp-nf\"><span class=\"tsp-lo\">1</span></div></td><td class=\"tsp-flr tsp-st\"><div class=\"tsp-nf\"><span class=\"tsp-lo\">1</span></div></td><td class=\"tsp-mi\"><span></span></td></tr></tbody></table></div></div></div>,\n",
       " <div class=\"tsp-fr tsp-fs tsp-cpd tsp-cbd\" jsname=\"HNKBQd\"><div class=\"tsp-led\" role=\"button\" tabindex=\"0\"><div><div><div class=\"tsp-w tsp-dib tsp-fs tsp-eds\"><div class=\"tsp-di\"><div class=\"tsp-di\"><span class=\"tsp-fm\">First round</span><span class=\"tsp-fl tsp-sp\" role=\"separator\">·</span><span class=\"tsp-lo\">Court 7</span></div></div><div class=\"tsp-sts tsp-pr\"><span class=\"tsp-sis tsp-frs tsp-dnil\" style=\"height:16px;line-height:16px;width:16px;fill:currentColor\"><svg style=\"display:block;height:100%;width:100%\" viewbox=\"0 0 24 24\" xmlns=\"http://www.w3.org/2000/svg\"><path d=\"M10 6L8.59 7.41 13.17 12l-4.58 4.59L10 18l6-6z\"></path><path d=\"M0 0h24v24H0z\" fill=\"none\"></path></svg></span><span class=\"tsp-fm\">Final</span></div></div></div></div><div class=\"tsp-tres\"><table class=\"tsp-flr tsp-tpt tsp-tbl\"><colgroup><col class=\"tsp-flc\"/><col class=\"tsp-cs\"/><col class=\"tsp-w tsp-flr tsp-nm\"/><col class=\"tsp-flr tsp-st\"/><col class=\"tsp-flr tsp-st\"/><col class=\"tsp-flr tsp-st\"/><col class=\"tsp-mi\"/></colgroup><tbody><tr class=\"tsp-sg\"><th class=\"tsp-flc\" role=\"rowheader\"><div><img alt=\"Serbia\" class=\"tsp-vm\" data-atf=\"1\" data-frt=\"0\" height=\"24\" role=\"img\" src=\"//ssl.gstatic.com/onebox/media/sports/logos/xyh1vmZ-xJH2iJCKjqS1Ow_48x48.png\"/></div></th><td class=\"tsp-cs\"></td><td class=\"tsp-w tsp-flr tsp-nm\"><div><span class=\"tsp-nd tsp-db tsp-el tsp-lo\">F. Krajinović</span></div></td><td class=\"tsp-flr tsp-st\"><div class=\"tsp-nf\"><span class=\"tsp-lo\">3</span></div></td><td class=\"tsp-flr tsp-st\"><div class=\"tsp-nf\"><span class=\"tsp-lo\">4</span></div></td><td class=\"tsp-flr tsp-st\"><div class=\"tsp-nf\"><span class=\"tsp-lo\">2</span></div></td><td class=\"tsp-mi\"><span></span></td></tr><tr class=\"tsp-sg\"><th class=\"tsp-flc\" role=\"rowheader\"><div><img alt=\"United States\" class=\"tsp-vm\" data-atf=\"1\" data-frt=\"0\" height=\"24\" role=\"img\" src=\"//ssl.gstatic.com/onebox/media/sports/logos/wj9uZvn_vZrelLFGH8fnPA_48x48.png\"/></div></th><td class=\"tsp-cs\"><span class=\"tsp-fs tsp-lo\">12</span></td><td class=\"tsp-w tsp-flr tsp-nm\"><div><span class=\"tsp-nd tsp-db tsp-el\">F. Tiafoe</span></div></td><td class=\"tsp-flr tsp-st\"><div class=\"tsp-nf\"><span>6</span></div></td><td class=\"tsp-flr tsp-st\"><div class=\"tsp-nf\"><span>6</span></div></td><td class=\"tsp-flr tsp-st\"><div class=\"tsp-nf\"><span>6</span></div></td><td class=\"tsp-mi\"><span class=\"tsp-wi\"></span></td></tr></tbody></table></div></div></div>,\n",
       " <div class=\"tsp-fr tsp-fs tsp-cpd tsp-cbd\" jsname=\"HNKBQd\"><div class=\"tsp-led\" role=\"button\" tabindex=\"0\"><div><div><div class=\"tsp-w tsp-dib tsp-fs tsp-eds\"><div class=\"tsp-di\"><div class=\"tsp-di\"><span class=\"tsp-fm\">First round</span><span class=\"tsp-fl tsp-sp\" role=\"separator\">·</span><span class=\"tsp-lo\">Court 8</span></div></div><div class=\"tsp-sts tsp-pr\"><span class=\"tsp-sis tsp-frs tsp-dnil\" style=\"height:16px;line-height:16px;width:16px;fill:currentColor\"><svg style=\"display:block;height:100%;width:100%\" viewbox=\"0 0 24 24\" xmlns=\"http://www.w3.org/2000/svg\"><path d=\"M10 6L8.59 7.41 13.17 12l-4.58 4.59L10 18l6-6z\"></path><path d=\"M0 0h24v24H0z\" fill=\"none\"></path></svg></span><span class=\"tsp-fm\">Final</span></div></div></div></div><div class=\"tsp-tres\"><table class=\"tsp-flr tsp-tpt tsp-tbl\"><colgroup><col class=\"tsp-flc\"/><col class=\"tsp-cs\"/><col class=\"tsp-w tsp-flr tsp-nm\"/><col class=\"tsp-flr tsp-st\"/><col class=\"tsp-flr tsp-st\"/><col class=\"tsp-flr tsp-st\"/><col class=\"tsp-mi\"/></colgroup><tbody><tr class=\"tsp-sg\"><th class=\"tsp-flc\" role=\"rowheader\"><div><img alt=\"Germany\" class=\"tsp-vm\" data-atf=\"4\" data-frt=\"0\" height=\"24\" role=\"img\" src=\"//ssl.gstatic.com/onebox/media/sports/logos/h1FhPLmDg9AHXzhygqvVPg_48x48.png\"/></div></th><td class=\"tsp-cs\"></td><td class=\"tsp-w tsp-flr tsp-nm\"><div><span class=\"tsp-nd tsp-db tsp-el\">D. Altmaier</span></div></td><td class=\"tsp-flr tsp-st\"><div class=\"tsp-nf\"><span>6</span></div></td><td class=\"tsp-flr tsp-st\"><div class=\"tsp-nf\"><span>6</span></div></td><td class=\"tsp-flr tsp-st\"><div class=\"tsp-nf\"><span>6</span></div></td><td class=\"tsp-mi\"><span class=\"tsp-wi\"></span></td></tr><tr class=\"tsp-sg\"><th class=\"tsp-flc\" role=\"rowheader\"><div><img alt=\"Switzerland\" class=\"tsp-vm\" data-atf=\"4\" data-frt=\"0\" height=\"24\" role=\"img\" src=\"//ssl.gstatic.com/onebox/media/sports/logos/1hy9ek4dOIffYULM6k1fqg_48x48.png\"/></div></th><td class=\"tsp-cs\"></td><td class=\"tsp-w tsp-flr tsp-nm\"><div><span class=\"tsp-nd tsp-db tsp-el tsp-lo\">M. Huesler</span></div></td><td class=\"tsp-flr tsp-st\"><div class=\"tsp-nf\"><span class=\"tsp-lo\">3</span></div></td><td class=\"tsp-flr tsp-st\"><div class=\"tsp-nf\"><span class=\"tsp-lo\">4</span></div></td><td class=\"tsp-flr tsp-st\"><div class=\"tsp-nf\"><span class=\"tsp-lo\">4</span></div></td><td class=\"tsp-mi\"><span></span></td></tr></tbody></table></div></div></div>,\n",
       " <div class=\"tsp-fr tsp-fs tsp-cpd tsp-cbd\" jsname=\"HNKBQd\"><div class=\"tsp-led\" role=\"button\" tabindex=\"0\"><div><div><div class=\"tsp-w tsp-dib tsp-fs tsp-eds\"><div class=\"tsp-di\"><div class=\"tsp-di\"><span class=\"tsp-fm\">First round</span><span class=\"tsp-fl tsp-sp\" role=\"separator\">·</span><span class=\"tsp-lo\">Court Suzanne Lenglen</span></div></div><div class=\"tsp-sts tsp-pr\"><span class=\"tsp-sis tsp-frs tsp-dnil\" style=\"height:16px;line-height:16px;width:16px;fill:currentColor\"><svg style=\"display:block;height:100%;width:100%\" viewbox=\"0 0 24 24\" xmlns=\"http://www.w3.org/2000/svg\"><path d=\"M10 6L8.59 7.41 13.17 12l-4.58 4.59L10 18l6-6z\"></path><path d=\"M0 0h24v24H0z\" fill=\"none\"></path></svg></span><span class=\"tsp-fm\">Final</span></div></div></div></div><div class=\"tsp-tres\"><table class=\"tsp-flr tsp-tpt tsp-tbl\"><colgroup><col class=\"tsp-flc\"/><col class=\"tsp-cs\"/><col class=\"tsp-w tsp-flr tsp-nm\"/><col class=\"tsp-flr tsp-st\"/><col class=\"tsp-flr tsp-st\"/><col class=\"tsp-flr tsp-st\"/><col class=\"tsp-mi\"/></colgroup><tbody><tr class=\"tsp-sg\"><th class=\"tsp-flc\" role=\"rowheader\"><div><img alt=\"Spain\" class=\"tsp-vm\" data-atf=\"4\" data-frt=\"0\" height=\"24\" role=\"img\" src=\"//ssl.gstatic.com/onebox/media/sports/logos/5hLkf7KFHhmpaiOJQv8LmA_48x48.png\"/></div></th><td class=\"tsp-cs\"><span class=\"tsp-fs tsp-lo\">1</span></td><td class=\"tsp-w tsp-flr tsp-nm\"><div><span class=\"tsp-nd tsp-db tsp-el\">C. Alcaraz Garfia</span></div></td><td class=\"tsp-flr tsp-st\"><div class=\"tsp-nf\"><span>6</span></div></td><td class=\"tsp-flr tsp-st\"><div class=\"tsp-nf\"><span>6</span></div></td><td class=\"tsp-flr tsp-st\"><div class=\"tsp-nf\"><span>7</span></div></td><td class=\"tsp-mi\"><span class=\"tsp-wi\"></span></td></tr><tr class=\"tsp-sg\"><th class=\"tsp-flc\" role=\"rowheader\"><div><img alt=\"Italy\" class=\"tsp-vm\" data-atf=\"4\" data-frt=\"0\" height=\"24\" role=\"img\" src=\"//ssl.gstatic.com/onebox/media/sports/logos/joYpsiaYi4GDCqhSRAq5Zg_48x48.png\"/></div></th><td class=\"tsp-cs\"></td><td class=\"tsp-w tsp-flr tsp-nm\"><div><span class=\"tsp-nd tsp-db tsp-el tsp-lo\">F. Cobolli</span></div></td><td class=\"tsp-flr tsp-st\"><div class=\"tsp-nf\"><span class=\"tsp-lo\">0</span></div></td><td class=\"tsp-flr tsp-st\"><div class=\"tsp-nf\"><span class=\"tsp-lo\">2</span></div></td><td class=\"tsp-flr tsp-st\"><div class=\"tsp-nf\"><span class=\"tsp-lo\">5</span></div></td><td class=\"tsp-mi\"><span></span></td></tr></tbody></table></div></div></div>,\n",
       " <div class=\"tsp-fr tsp-fs tsp-cpd tsp-cbd\" jsname=\"HNKBQd\"><div class=\"tsp-led\" role=\"button\" tabindex=\"0\"><div><div><div class=\"tsp-w tsp-dib tsp-fs tsp-eds\"><div class=\"tsp-di\"><div class=\"tsp-di\"><span class=\"tsp-fm\">First round</span><span class=\"tsp-fl tsp-sp\" role=\"separator\">·</span><span class=\"tsp-lo\">Court Simonne-Mathieu</span></div></div><div class=\"tsp-sts tsp-pr\"><span class=\"tsp-sis tsp-frs tsp-dnil\" style=\"height:16px;line-height:16px;width:16px;fill:currentColor\"><svg style=\"display:block;height:100%;width:100%\" viewbox=\"0 0 24 24\" xmlns=\"http://www.w3.org/2000/svg\"><path d=\"M10 6L8.59 7.41 13.17 12l-4.58 4.59L10 18l6-6z\"></path><path d=\"M0 0h24v24H0z\" fill=\"none\"></path></svg></span><span class=\"tsp-fm\">Final</span></div></div></div></div><div class=\"tsp-tres\"><table class=\"tsp-flr tsp-tpt tsp-tbl\"><colgroup><col class=\"tsp-flc\"/><col class=\"tsp-cs\"/><col class=\"tsp-w tsp-flr tsp-nm\"/><col class=\"tsp-flr tsp-st\"/><col class=\"tsp-flr tsp-st\"/><col class=\"tsp-flr tsp-st\"/><col class=\"tsp-flr tsp-st\"/><col class=\"tsp-mi\"/></colgroup><tbody><tr class=\"tsp-sg\"><th class=\"tsp-flc\" role=\"rowheader\"><div><img alt=\"France\" class=\"tsp-vm\" height=\"24\" role=\"img\" src=\"//ssl.gstatic.com/onebox/media/sports/logos/z3JEQB3coEAGLCJBEUzQ2A_48x48.png\"/></div></th><td class=\"tsp-cs\"></td><td class=\"tsp-w tsp-flr tsp-nm\"><div><span class=\"tsp-nd tsp-db tsp-el tsp-lo\">A. Fils</span></div></td><td class=\"tsp-flr tsp-st\"><div class=\"tsp-nf\"><span class=\"tsp-lo\">1</span></div></td><td class=\"tsp-flr tsp-st\"><div class=\"tsp-nf\"><span>6</span></div></td><td class=\"tsp-flr tsp-st\"><div class=\"tsp-nf\"><span class=\"tsp-lo\">3</span></div></td><td class=\"tsp-flr tsp-st\"><div class=\"tsp-nf\"><span class=\"tsp-lo\">3</span></div></td><td class=\"tsp-mi\"><span></span></td></tr><tr class=\"tsp-sg\"><th class=\"tsp-flc\" role=\"rowheader\"><div><img alt=\"Spain\" class=\"tsp-vm\" height=\"24\" role=\"img\" src=\"//ssl.gstatic.com/onebox/media/sports/logos/5hLkf7KFHhmpaiOJQv8LmA_48x48.png\"/></div></th><td class=\"tsp-cs\"><span class=\"tsp-fs tsp-lo\">29</span></td><td class=\"tsp-w tsp-flr tsp-nm\"><div><span class=\"tsp-nd tsp-db tsp-el\">A. Davidovich Fokina</span></div></td><td class=\"tsp-flr tsp-st\"><div class=\"tsp-nf\"><span>6</span></div></td><td class=\"tsp-flr tsp-st\"><div class=\"tsp-nf\"><span class=\"tsp-lo\">4</span></div></td><td class=\"tsp-flr tsp-st\"><div class=\"tsp-nf\"><span>6</span></div></td><td class=\"tsp-flr tsp-st\"><div class=\"tsp-nf\"><span>6</span></div></td><td class=\"tsp-mi\"><span class=\"tsp-wi\"></span></td></tr></tbody></table></div></div></div>,\n",
       " <div class=\"tsp-fr tsp-fs tsp-cpd tsp-cbd\" jsname=\"HNKBQd\"><div class=\"tsp-led\" role=\"button\" tabindex=\"0\"><div><div><div class=\"tsp-w tsp-dib tsp-fs tsp-eds\"><div class=\"tsp-di\"><div class=\"tsp-di\"><span class=\"tsp-fm\">First round</span><span class=\"tsp-fl tsp-sp\" role=\"separator\">·</span><span class=\"tsp-lo\">Court  13</span></div></div><div class=\"tsp-sts tsp-pr\"><span class=\"tsp-sis tsp-frs tsp-dnil\" style=\"height:16px;line-height:16px;width:16px;fill:currentColor\"><svg style=\"display:block;height:100%;width:100%\" viewbox=\"0 0 24 24\" xmlns=\"http://www.w3.org/2000/svg\"><path d=\"M10 6L8.59 7.41 13.17 12l-4.58 4.59L10 18l6-6z\"></path><path d=\"M0 0h24v24H0z\" fill=\"none\"></path></svg></span><span class=\"tsp-fm\">Final</span></div></div></div></div><div class=\"tsp-tres\"><table class=\"tsp-flr tsp-tpt tsp-tbl\"><colgroup><col class=\"tsp-flc\"/><col class=\"tsp-cs\"/><col class=\"tsp-w tsp-flr tsp-nm\"/><col class=\"tsp-flr tsp-st\"/><col class=\"tsp-flr tsp-st\"/><col class=\"tsp-flr tsp-st\"/><col class=\"tsp-flr tsp-st\"/><col class=\"tsp-flr tsp-st\"/><col class=\"tsp-mi\"/></colgroup><tbody><tr class=\"tsp-sg\"><th class=\"tsp-flc\" role=\"rowheader\"><div><img alt=\"Czechia\" class=\"tsp-vm\" height=\"24\" role=\"img\" src=\"//ssl.gstatic.com/onebox/media/sports/logos/8AluO-WxpcHtC0KKHmFgvg_48x48.png\"/></div></th><td class=\"tsp-cs\"></td><td class=\"tsp-w tsp-flr tsp-nm\"><div><span class=\"tsp-nd tsp-db tsp-el\">J. Lehecka</span></div></td><td class=\"tsp-flr tsp-st\"><div class=\"tsp-nf\"><span>7</span></div></td><td class=\"tsp-flr tsp-st\"><div class=\"tsp-nf\"><span class=\"tsp-lo\">1</span></div></td><td class=\"tsp-flr tsp-st\"><div class=\"tsp-nf\"><span>6</span></div></td><td class=\"tsp-flr tsp-st\"><div class=\"tsp-nf\"><span class=\"tsp-lo\">3</span></div></td><td class=\"tsp-flr tsp-st\"><div class=\"tsp-nf\"><span>6</span></div></td><td class=\"tsp-mi\"><span class=\"tsp-wi\"></span></td></tr><tr class=\"tsp-sg\"><th class=\"tsp-flc\" role=\"rowheader\"><div><img alt=\"Germany\" class=\"tsp-vm\" height=\"24\" role=\"img\" src=\"//ssl.gstatic.com/onebox/media/sports/logos/h1FhPLmDg9AHXzhygqvVPg_48x48.png\"/></div></th><td class=\"tsp-cs\"><span class=\"tsp-fs tsp-lo\">21</span></td><td class=\"tsp-w tsp-flr tsp-nm\"><div><span class=\"tsp-nd tsp-db tsp-el tsp-lo\">J. Struff</span></div></td><td class=\"tsp-flr tsp-st\"><div class=\"tsp-nf\"><span class=\"tsp-lo\">5</span></div></td><td class=\"tsp-flr tsp-st\"><div class=\"tsp-nf\"><span>6</span></div></td><td class=\"tsp-flr tsp-st\"><div class=\"tsp-nf\"><span class=\"tsp-lo\">3</span></div></td><td class=\"tsp-flr tsp-st\"><div class=\"tsp-nf\"><span>6</span></div></td><td class=\"tsp-flr tsp-st\"><div class=\"tsp-nf\"><span class=\"tsp-lo\">1</span></div></td><td class=\"tsp-mi\"><span></span></td></tr></tbody></table></div></div></div>,\n",
       " <div class=\"tsp-fr tsp-fs tsp-cpd tsp-cbd\" jsname=\"HNKBQd\"><div class=\"tsp-led\" role=\"button\" tabindex=\"0\"><div><div><div class=\"tsp-w tsp-dib tsp-fs tsp-eds\"><div class=\"tsp-di\"><div class=\"tsp-di\"><span class=\"tsp-fm\">First round</span><span class=\"tsp-fl tsp-sp\" role=\"separator\">·</span><span class=\"tsp-lo\">Court 4</span></div></div><div class=\"tsp-sts tsp-pr\"><span class=\"tsp-sis tsp-frs tsp-dnil\" style=\"height:16px;line-height:16px;width:16px;fill:currentColor\"><svg style=\"display:block;height:100%;width:100%\" viewbox=\"0 0 24 24\" xmlns=\"http://www.w3.org/2000/svg\"><path d=\"M10 6L8.59 7.41 13.17 12l-4.58 4.59L10 18l6-6z\"></path><path d=\"M0 0h24v24H0z\" fill=\"none\"></path></svg></span><span class=\"tsp-fm\">Final</span></div></div></div></div><div class=\"tsp-tres\"><table class=\"tsp-flr tsp-tpt tsp-tbl\"><colgroup><col class=\"tsp-flc\"/><col class=\"tsp-cs\"/><col class=\"tsp-w tsp-flr tsp-nm\"/><col class=\"tsp-flr tsp-st\"/><col class=\"tsp-flr tsp-st\"/><col class=\"tsp-flr tsp-st\"/><col class=\"tsp-flr tsp-st\"/><col class=\"tsp-mi\"/></colgroup><tbody><tr class=\"tsp-sg\"><th class=\"tsp-flc\" role=\"rowheader\"><div><img alt=\"Serbia\" class=\"tsp-vm\" height=\"24\" role=\"img\" src=\"//ssl.gstatic.com/onebox/media/sports/logos/xyh1vmZ-xJH2iJCKjqS1Ow_48x48.png\"/></div></th><td class=\"tsp-cs\"></td><td class=\"tsp-w tsp-flr tsp-nm\"><div><span class=\"tsp-nd tsp-db tsp-el tsp-lo\">H. Medjedovic</span></div></td><td class=\"tsp-flr tsp-st\"><div class=\"tsp-nf\"><span class=\"tsp-lo\">0</span></div></td><td class=\"tsp-flr tsp-st\"><div class=\"tsp-nf\"><span class=\"tsp-lo\">2</span></div></td><td class=\"tsp-flr tsp-st\"><div class=\"tsp-nf\"><span>6</span></div></td><td class=\"tsp-flr tsp-st\"><div class=\"tsp-nf\"><span class=\"tsp-lo\">0</span></div></td><td class=\"tsp-mi\"><span></span></td></tr><tr class=\"tsp-sg\"><th class=\"tsp-flc\" role=\"rowheader\"><div><img alt=\"United States\" class=\"tsp-vm\" height=\"24\" role=\"img\" src=\"//ssl.gstatic.com/onebox/media/sports/logos/wj9uZvn_vZrelLFGH8fnPA_48x48.png\"/></div></th><td class=\"tsp-cs\"></td><td class=\"tsp-w tsp-flr tsp-nm\"><div><span class=\"tsp-nd tsp-db tsp-el\">M. Giron</span></div></td><td class=\"tsp-flr tsp-st\"><div class=\"tsp-nf\"><span>6</span></div></td><td class=\"tsp-flr tsp-st\"><div class=\"tsp-nf\"><span>6</span></div></td><td class=\"tsp-flr tsp-st\"><div class=\"tsp-nf\"><span class=\"tsp-lo\">1</span></div></td><td class=\"tsp-flr tsp-st\"><div class=\"tsp-nf\"><span>6</span></div></td><td class=\"tsp-mi\"><span class=\"tsp-wi\"></span></td></tr></tbody></table></div></div></div>,\n",
       " <div class=\"tsp-fr tsp-fs tsp-cpd tsp-cbd\" jsname=\"HNKBQd\"><div class=\"tsp-led\" role=\"button\" tabindex=\"0\"><div><div><div class=\"tsp-w tsp-dib tsp-fs tsp-eds\"><div class=\"tsp-di\"><div class=\"tsp-di\"><span class=\"tsp-fm\">First round</span><span class=\"tsp-fl tsp-sp\" role=\"separator\">·</span><span class=\"tsp-lo\">Court 6</span></div></div><div class=\"tsp-sts tsp-pr\"><span class=\"tsp-sis tsp-frs tsp-dnil\" style=\"height:16px;line-height:16px;width:16px;fill:currentColor\"><svg style=\"display:block;height:100%;width:100%\" viewbox=\"0 0 24 24\" xmlns=\"http://www.w3.org/2000/svg\"><path d=\"M10 6L8.59 7.41 13.17 12l-4.58 4.59L10 18l6-6z\"></path><path d=\"M0 0h24v24H0z\" fill=\"none\"></path></svg></span><span class=\"tsp-fm\">Final</span></div></div></div></div><div class=\"tsp-tres\"><table class=\"tsp-flr tsp-tpt tsp-tbl\"><colgroup><col class=\"tsp-flc\"/><col class=\"tsp-cs\"/><col class=\"tsp-w tsp-flr tsp-nm\"/><col class=\"tsp-flr tsp-st\"/><col class=\"tsp-flr tsp-st\"/><col class=\"tsp-flr tsp-st\"/><col class=\"tsp-flr tsp-st\"/><col class=\"tsp-flr tsp-st\"/><col class=\"tsp-mi\"/></colgroup><tbody><tr class=\"tsp-sg\"><th class=\"tsp-flc\" role=\"rowheader\"><div><img alt=\"Austria\" class=\"tsp-vm\" height=\"24\" role=\"img\" src=\"//ssl.gstatic.com/onebox/media/sports/logos/HwYB-wsdd6M2WmLXSkd6Sg_48x48.png\"/></div></th><td class=\"tsp-cs\"></td><td class=\"tsp-w tsp-flr tsp-nm\"><div><span class=\"tsp-nd tsp-db tsp-el tsp-lo\">D. Thiem</span></div></td><td class=\"tsp-flr tsp-st\"><div class=\"tsp-nf\"><span class=\"tsp-lo\">3</span></div></td><td class=\"tsp-flr tsp-st\"><div class=\"tsp-nf\"><span class=\"tsp-lo\">2</span></div></td><td class=\"tsp-flr tsp-st\"><div class=\"tsp-nf\"><span>7</span><span class=\"tsp-t\">7</span></div></td><td class=\"tsp-flr tsp-st\"><div class=\"tsp-nf\"><span>6</span></div></td><td class=\"tsp-flr tsp-st\"><div class=\"tsp-nf\"><span class=\"tsp-lo\">2</span></div></td><td class=\"tsp-mi\"><span></span></td></tr><tr class=\"tsp-sg\"><th class=\"tsp-flc\" role=\"rowheader\"><div><img alt=\"Argentina\" class=\"tsp-vm\" height=\"24\" role=\"img\" src=\"//ssl.gstatic.com/onebox/media/sports/logos/1xBWyjjkA6vEWopPK3lIPA_48x48.png\"/></div></th><td class=\"tsp-cs\"></td><td class=\"tsp-w tsp-flr tsp-nm\"><div><span class=\"tsp-nd tsp-db tsp-el\">P. Cachín</span></div></td><td class=\"tsp-flr tsp-st\"><div class=\"tsp-nf\"><span>6</span></div></td><td class=\"tsp-flr tsp-st\"><div class=\"tsp-nf\"><span>6</span></div></td><td class=\"tsp-flr tsp-st\"><div class=\"tsp-nf\"><span class=\"tsp-lo\">6</span><span class=\"tsp-t tsp-lo\">1</span></div></td><td class=\"tsp-flr tsp-st\"><div class=\"tsp-nf\"><span class=\"tsp-lo\">4</span></div></td><td class=\"tsp-flr tsp-st\"><div class=\"tsp-nf\"><span>6</span></div></td><td class=\"tsp-mi\"><span class=\"tsp-wi\"></span></td></tr></tbody></table></div></div></div>,\n",
       " <div class=\"tsp-fr tsp-fs tsp-cpd tsp-cbd\" jsname=\"HNKBQd\"><div class=\"tsp-led\" role=\"button\" tabindex=\"0\"><div><div><div class=\"tsp-w tsp-dib tsp-fs tsp-eds\"><div class=\"tsp-di\"><div class=\"tsp-di\"><span class=\"tsp-fm\">First round</span><span class=\"tsp-fl tsp-sp\" role=\"separator\">·</span><span class=\"tsp-lo\">Court 12</span></div></div><div class=\"tsp-sts tsp-pr\"><span class=\"tsp-sis tsp-frs tsp-dnil\" style=\"height:16px;line-height:16px;width:16px;fill:currentColor\"><svg style=\"display:block;height:100%;width:100%\" viewbox=\"0 0 24 24\" xmlns=\"http://www.w3.org/2000/svg\"><path d=\"M10 6L8.59 7.41 13.17 12l-4.58 4.59L10 18l6-6z\"></path><path d=\"M0 0h24v24H0z\" fill=\"none\"></path></svg></span><span class=\"tsp-fm\">Final</span></div></div></div></div><div class=\"tsp-tres\"><table class=\"tsp-flr tsp-tpt tsp-tbl\"><colgroup><col class=\"tsp-flc\"/><col class=\"tsp-cs\"/><col class=\"tsp-w tsp-flr tsp-nm\"/><col class=\"tsp-flr tsp-st\"/><col class=\"tsp-flr tsp-st\"/><col class=\"tsp-flr tsp-st\"/><col class=\"tsp-flr tsp-st\"/><col class=\"tsp-mi\"/></colgroup><tbody><tr class=\"tsp-sg\"><th class=\"tsp-flc\" role=\"rowheader\"><div><img alt=\"Croatia\" class=\"tsp-vm\" height=\"24\" role=\"img\" src=\"//ssl.gstatic.com/onebox/media/sports/logos/9toerdOg8xW4CRhDaZxsyw_48x48.png\"/></div></th><td class=\"tsp-cs\"><span class=\"tsp-fs tsp-lo\">15</span></td><td class=\"tsp-w tsp-flr tsp-nm\"><div><span class=\"tsp-nd tsp-db tsp-el\">B. Ćorić</span></div></td><td class=\"tsp-flr tsp-st\"><div class=\"tsp-nf\"><span>7</span><span class=\"tsp-t\">7</span></div></td><td class=\"tsp-flr tsp-st\"><div class=\"tsp-nf\"><span class=\"tsp-lo\">6</span><span class=\"tsp-t tsp-lo\">5</span></div></td><td class=\"tsp-flr tsp-st\"><div class=\"tsp-nf\"><span>6</span></div></td><td class=\"tsp-flr tsp-st\"><div class=\"tsp-nf\"><span>6</span></div></td><td class=\"tsp-mi\"><span class=\"tsp-wi\"></span></td></tr><tr class=\"tsp-sg\"><th class=\"tsp-flc\" role=\"rowheader\"><div><img alt=\"Argentina\" class=\"tsp-vm\" height=\"24\" role=\"img\" src=\"//ssl.gstatic.com/onebox/media/sports/logos/1xBWyjjkA6vEWopPK3lIPA_48x48.png\"/></div></th><td class=\"tsp-cs\"></td><td class=\"tsp-w tsp-flr tsp-nm\"><div><span class=\"tsp-nd tsp-db tsp-el tsp-lo\">F. Coria</span></div></td><td class=\"tsp-flr tsp-st\"><div class=\"tsp-nf\"><span class=\"tsp-lo\">6</span><span class=\"tsp-t tsp-lo\">3</span></div></td><td class=\"tsp-flr tsp-st\"><div class=\"tsp-nf\"><span>7</span><span class=\"tsp-t\">7</span></div></td><td class=\"tsp-flr tsp-st\"><div class=\"tsp-nf\"><span class=\"tsp-lo\">3</span></div></td><td class=\"tsp-flr tsp-st\"><div class=\"tsp-nf\"><span class=\"tsp-lo\">3</span></div></td><td class=\"tsp-mi\"><span></span></td></tr></tbody></table></div></div></div>,\n",
       " <div class=\"tsp-fr tsp-fs tsp-cpd tsp-cbd\" jsname=\"HNKBQd\"><div class=\"tsp-led\" role=\"button\" tabindex=\"0\"><div><div><div class=\"tsp-w tsp-dib tsp-fs tsp-eds\"><div class=\"tsp-di\"><div class=\"tsp-di\"><span class=\"tsp-fm\">First round</span><span class=\"tsp-fl tsp-sp\" role=\"separator\">·</span><span class=\"tsp-lo\">Court 9</span></div></div><div class=\"tsp-sts tsp-pr\"><span class=\"tsp-sis tsp-frs tsp-dnil\" style=\"height:16px;line-height:16px;width:16px;fill:currentColor\"><svg style=\"display:block;height:100%;width:100%\" viewbox=\"0 0 24 24\" xmlns=\"http://www.w3.org/2000/svg\"><path d=\"M10 6L8.59 7.41 13.17 12l-4.58 4.59L10 18l6-6z\"></path><path d=\"M0 0h24v24H0z\" fill=\"none\"></path></svg></span><span class=\"tsp-fm\">Final</span></div></div></div></div><div class=\"tsp-tres\"><table class=\"tsp-flr tsp-tpt tsp-tbl\"><colgroup><col class=\"tsp-flc\"/><col class=\"tsp-cs\"/><col class=\"tsp-w tsp-flr tsp-nm\"/><col class=\"tsp-flr tsp-st\"/><col class=\"tsp-flr tsp-st\"/><col class=\"tsp-flr tsp-st\"/><col class=\"tsp-flr tsp-st\"/><col class=\"tsp-mi\"/></colgroup><tbody><tr class=\"tsp-sg\"><th class=\"tsp-flc\" role=\"rowheader\"><div><img alt=\"Netherlands\" class=\"tsp-vm\" height=\"24\" role=\"img\" src=\"//ssl.gstatic.com/onebox/media/sports/logos/8GEqzfLegwFFpe6X2BODTg_48x48.png\"/></div></th><td class=\"tsp-cs\"><span class=\"tsp-fs tsp-lo\">25</span></td><td class=\"tsp-w tsp-flr tsp-nm\"><div><span class=\"tsp-nd tsp-db tsp-el tsp-lo\">B. van de Zandschulp</span></div></td><td class=\"tsp-flr tsp-st\"><div class=\"tsp-nf\"><span class=\"tsp-lo\">2</span></div></td><td class=\"tsp-flr tsp-st\"><div class=\"tsp-nf\"><span>6</span></div></td><td class=\"tsp-flr tsp-st\"><div class=\"tsp-nf\"><span class=\"tsp-lo\">3</span></div></td><td class=\"tsp-flr tsp-st\"><div class=\"tsp-nf\"><span class=\"tsp-lo\">4</span></div></td><td class=\"tsp-mi\"><span></span></td></tr><tr class=\"tsp-sg\"><th class=\"tsp-flc\" role=\"rowheader\"><div><img alt=\"Argentina\" class=\"tsp-vm\" height=\"24\" role=\"img\" src=\"//ssl.gstatic.com/onebox/media/sports/logos/1xBWyjjkA6vEWopPK3lIPA_48x48.png\"/></div></th><td class=\"tsp-cs\"></td><td class=\"tsp-w tsp-flr tsp-nm\"><div><span class=\"tsp-nd tsp-db tsp-el\">T. Tirante</span></div></td><td class=\"tsp-flr tsp-st\"><div class=\"tsp-nf\"><span>6</span></div></td><td class=\"tsp-flr tsp-st\"><div class=\"tsp-nf\"><span class=\"tsp-lo\">4</span></div></td><td class=\"tsp-flr tsp-st\"><div class=\"tsp-nf\"><span>6</span></div></td><td class=\"tsp-flr tsp-st\"><div class=\"tsp-nf\"><span>6</span></div></td><td class=\"tsp-mi\"><span class=\"tsp-wi\"></span></td></tr></tbody></table></div></div></div>,\n",
       " <div class=\"tsp-fr tsp-fs tsp-cpd tsp-cbd\" jsname=\"HNKBQd\"><div class=\"tsp-led\" role=\"button\" tabindex=\"0\"><div><div><div class=\"tsp-w tsp-dib tsp-fs tsp-eds\"><div class=\"tsp-di\"><div class=\"tsp-di\"><span class=\"tsp-fm\">First round</span><span class=\"tsp-fl tsp-sp\" role=\"separator\">·</span><span class=\"tsp-lo\">Philippe-Chatrier</span></div></div><div class=\"tsp-sts tsp-pr\"><span class=\"tsp-sis tsp-frs tsp-dnil\" style=\"height:16px;line-height:16px;width:16px;fill:currentColor\"><svg style=\"display:block;height:100%;width:100%\" viewbox=\"0 0 24 24\" xmlns=\"http://www.w3.org/2000/svg\"><path d=\"M10 6L8.59 7.41 13.17 12l-4.58 4.59L10 18l6-6z\"></path><path d=\"M0 0h24v24H0z\" fill=\"none\"></path></svg></span><span class=\"tsp-fm\">Final</span></div></div></div></div><div><table class=\"tsp-flr tsp-tpt tsp-tbl\"><colgroup><col class=\"tsp-flc\"/><col class=\"tsp-cs\"/><col class=\"tsp-w tsp-flr tsp-nm\"/><col class=\"tsp-flr tsp-st\"/><col class=\"tsp-flr tsp-st\"/><col class=\"tsp-flr tsp-st\"/><col class=\"tsp-mi\"/></colgroup><tbody><tr class=\"tsp-sg\"><th class=\"tsp-flc\" role=\"rowheader\"><div><img alt=\"Serbia\" class=\"tsp-vm\" height=\"24\" role=\"img\" src=\"//ssl.gstatic.com/onebox/media/sports/logos/xyh1vmZ-xJH2iJCKjqS1Ow_48x48.png\"/></div></th><td class=\"tsp-cs\"><span class=\"tsp-fs tsp-lo\">3</span></td><td class=\"tsp-w tsp-flr tsp-nm\"><div><span class=\"tsp-nd tsp-db tsp-el\">N. Djokovic</span></div></td><td class=\"tsp-flr tsp-st\"><div class=\"tsp-nf\"><span>6</span></div></td><td class=\"tsp-flr tsp-st\"><div class=\"tsp-nf\"><span>6</span></div></td><td class=\"tsp-flr tsp-st\"><div class=\"tsp-nf\"><span>7</span><span class=\"tsp-t\">7</span></div></td><td class=\"tsp-mi\"><span class=\"tsp-wi\"></span></td></tr><tr class=\"tsp-sg\"><th class=\"tsp-flc\" role=\"rowheader\"><div><img alt=\"United States\" class=\"tsp-vm\" height=\"24\" role=\"img\" src=\"//ssl.gstatic.com/onebox/media/sports/logos/wj9uZvn_vZrelLFGH8fnPA_48x48.png\"/></div></th><td class=\"tsp-cs\"></td><td class=\"tsp-w tsp-flr tsp-nm\"><div><span class=\"tsp-nd tsp-db tsp-el tsp-lo\">A. Kovacevic</span></div></td><td class=\"tsp-flr tsp-st\"><div class=\"tsp-nf\"><span class=\"tsp-lo\">3</span></div></td><td class=\"tsp-flr tsp-st\"><div class=\"tsp-nf\"><span class=\"tsp-lo\">2</span></div></td><td class=\"tsp-flr tsp-st\"><div class=\"tsp-nf\"><span class=\"tsp-lo\">6</span><span class=\"tsp-t tsp-lo\">1</span></div></td><td class=\"tsp-mi\"><span></span></td></tr></tbody></table></div></div><div role=\"button\" tabindex=\"0\"><div><a class=\"tsp-ci tsp-lntd\" data-jsarwt=\"1\" data-usg=\"AOvVaw2xrHTuMQe_O7WJXLE0xquR\" data-ved=\"2ahUKEwjavZL6l5v_AhXJRkEAHSipBmQQisIEegQIARAP\" href=\"https://www.eurosport.com/tennis/roland-garros/2023/djokovic-v-kovacevic-roland-garros-highlights_vid1921273/video.shtml\"><div class=\"tsp-vc\"><div class=\"tsp-vct\"><span class=\"tsp-flr tsp-dib\">Video highlights</span><span role=\"separator\"> · </span><span class=\"tsp-fs tsp-lo tsp-dib\">3 hours ago</span></div><div class=\"tsp-tvt\" style=\"min-width:74px;max-height:41px\"><div><div class=\"VrVlic\"><img alt=\"\" class=\"Jrnjfd\" src=\"//ssl.gstatic.com/onebox/media/sports/videos/vita/mJXYBKK2odQnRvdw_96x54.jpg\" style=\"width:74px;height:41px\"/><div class=\"tsp-tca\"><div class=\"OvpUqc\"><div class=\"tsp-tcat\">DJOKOVIC V KOVACEVIC - ROLAND-GARROS HIGHLIGHTS · 3:09</div></div></div></div></div></div></div></a></div></div></div>,\n",
       " <div class=\"tsp-fr tsp-fs tsp-cpd tsp-cbd\" jsname=\"HNKBQd\"><div class=\"tsp-led\" role=\"button\" tabindex=\"0\"><div><div><div class=\"tsp-w tsp-dib tsp-fs tsp-eds\"><div class=\"tsp-di\"><div class=\"tsp-di\"><span class=\"tsp-fm\">First round</span><span class=\"tsp-fl tsp-sp\" role=\"separator\">·</span><span class=\"tsp-lo\">Court 4</span></div></div><div class=\"tsp-sts tsp-pr\"><span class=\"tsp-sis tsp-frs tsp-dnil\" style=\"height:16px;line-height:16px;width:16px;fill:currentColor\"><svg style=\"display:block;height:100%;width:100%\" viewbox=\"0 0 24 24\" xmlns=\"http://www.w3.org/2000/svg\"><path d=\"M10 6L8.59 7.41 13.17 12l-4.58 4.59L10 18l6-6z\"></path><path d=\"M0 0h24v24H0z\" fill=\"none\"></path></svg></span><span class=\"tsp-fm\">Final</span></div></div></div></div><div class=\"tsp-tres\"><table class=\"tsp-flr tsp-tpt tsp-tbl\"><colgroup><col class=\"tsp-flc\"/><col class=\"tsp-cs\"/><col class=\"tsp-w tsp-flr tsp-nm\"/><col class=\"tsp-flr tsp-st\"/><col class=\"tsp-flr tsp-st\"/><col class=\"tsp-flr tsp-st\"/><col class=\"tsp-mi\"/></colgroup><tbody><tr class=\"tsp-sg\"><th class=\"tsp-flc\" role=\"rowheader\"><div><img alt=\"Australia\" class=\"tsp-vm\" height=\"24\" role=\"img\" src=\"//ssl.gstatic.com/onebox/media/sports/logos/jSgw5z0EPOLzdUi-Aomq7Q_48x48.png\"/></div></th><td class=\"tsp-cs\"></td><td class=\"tsp-w tsp-flr tsp-nm\"><div><span class=\"tsp-nd tsp-db tsp-el tsp-lo\">C. O'Connell</span></div></td><td class=\"tsp-flr tsp-st\"><div class=\"tsp-nf\"><span class=\"tsp-lo\">0</span></div></td><td class=\"tsp-flr tsp-st\"><div class=\"tsp-nf\"><span class=\"tsp-lo\">2</span></div></td><td class=\"tsp-flr tsp-st\"><div class=\"tsp-nf\"><span class=\"tsp-lo\">4</span></div></td><td class=\"tsp-mi\"><span></span></td></tr><tr class=\"tsp-sg\"><th class=\"tsp-flc\" role=\"rowheader\"><div><img alt=\"Japan\" class=\"tsp-vm\" height=\"24\" role=\"img\" src=\"//ssl.gstatic.com/onebox/media/sports/logos/by4OltvtZz7taxuQtkiP3A_48x48.png\"/></div></th><td class=\"tsp-cs\"></td><td class=\"tsp-w tsp-flr tsp-nm\"><div><span class=\"tsp-nd tsp-db tsp-el\">T. Daniel</span></div></td><td class=\"tsp-flr tsp-st\"><div class=\"tsp-nf\"><span>6</span></div></td><td class=\"tsp-flr tsp-st\"><div class=\"tsp-nf\"><span>6</span></div></td><td class=\"tsp-flr tsp-st\"><div class=\"tsp-nf\"><span>6</span></div></td><td class=\"tsp-mi\"><span class=\"tsp-wi\"></span></td></tr></tbody></table></div></div></div>,\n",
       " <div class=\"tsp-fr tsp-fs tsp-cpd tsp-cbd\" jsname=\"HNKBQd\"><div class=\"tsp-led\" role=\"button\" tabindex=\"0\"><div><div><div class=\"tsp-w tsp-dib tsp-fs tsp-eds\"><div class=\"tsp-di\"><div class=\"tsp-di\"><span class=\"tsp-fm\">First round</span><span class=\"tsp-fl tsp-sp\" role=\"separator\">·</span><span class=\"tsp-lo\">Court  14</span></div></div><div class=\"tsp-sts tsp-pr\"><span class=\"tsp-sis tsp-frs tsp-dnil\" style=\"height:16px;line-height:16px;width:16px;fill:currentColor\"><svg style=\"display:block;height:100%;width:100%\" viewbox=\"0 0 24 24\" xmlns=\"http://www.w3.org/2000/svg\"><path d=\"M10 6L8.59 7.41 13.17 12l-4.58 4.59L10 18l6-6z\"></path><path d=\"M0 0h24v24H0z\" fill=\"none\"></path></svg></span><span class=\"tsp-fm\">Final</span></div></div></div></div><div class=\"tsp-tres\"><table class=\"tsp-flr tsp-tpt tsp-tbl\"><colgroup><col class=\"tsp-flc\"/><col class=\"tsp-cs\"/><col class=\"tsp-w tsp-flr tsp-nm\"/><col class=\"tsp-flr tsp-st\"/><col class=\"tsp-flr tsp-st\"/><col class=\"tsp-flr tsp-st\"/><col class=\"tsp-flr tsp-st\"/><col class=\"tsp-flr tsp-st\"/><col class=\"tsp-mi\"/></colgroup><tbody><tr class=\"tsp-sg\"><th class=\"tsp-flc\" role=\"rowheader\"><div><img alt=\"Switzerland\" class=\"tsp-vm\" height=\"24\" role=\"img\" src=\"//ssl.gstatic.com/onebox/media/sports/logos/1hy9ek4dOIffYULM6k1fqg_48x48.png\"/></div></th><td class=\"tsp-cs\"></td><td class=\"tsp-w tsp-flr tsp-nm\"><div><span class=\"tsp-nd tsp-db tsp-el\">S. Wawrinka</span></div></td><td class=\"tsp-flr tsp-st\"><div class=\"tsp-nf\"><span>7</span><span class=\"tsp-t\">7</span></div></td><td class=\"tsp-flr tsp-st\"><div class=\"tsp-nf\"><span>6</span></div></td><td class=\"tsp-flr tsp-st\"><div class=\"tsp-nf\"><span class=\"tsp-lo\">6</span><span class=\"tsp-t tsp-lo\">2</span></div></td><td class=\"tsp-flr tsp-st\"><div class=\"tsp-nf\"><span class=\"tsp-lo\">1</span></div></td><td class=\"tsp-flr tsp-st\"><div class=\"tsp-nf\"><span>6</span></div></td><td class=\"tsp-mi\"><span class=\"tsp-wi\"></span></td></tr><tr class=\"tsp-sg\"><th class=\"tsp-flc\" role=\"rowheader\"><div><img alt=\"Spain\" class=\"tsp-vm\" height=\"24\" role=\"img\" src=\"//ssl.gstatic.com/onebox/media/sports/logos/5hLkf7KFHhmpaiOJQv8LmA_48x48.png\"/></div></th><td class=\"tsp-cs\"></td><td class=\"tsp-w tsp-flr tsp-nm\"><div><span class=\"tsp-nd tsp-db tsp-el tsp-lo\">A. Ramos-Viñolas</span></div></td><td class=\"tsp-flr tsp-st\"><div class=\"tsp-nf\"><span class=\"tsp-lo\">6</span><span class=\"tsp-t tsp-lo\">5</span></div></td><td class=\"tsp-flr tsp-st\"><div class=\"tsp-nf\"><span class=\"tsp-lo\">4</span></div></td><td class=\"tsp-flr tsp-st\"><div class=\"tsp-nf\"><span>7</span><span class=\"tsp-t\">7</span></div></td><td class=\"tsp-flr tsp-st\"><div class=\"tsp-nf\"><span>6</span></div></td><td class=\"tsp-flr tsp-st\"><div class=\"tsp-nf\"><span class=\"tsp-lo\">4</span></div></td><td class=\"tsp-mi\"><span></span></td></tr></tbody></table></div></div></div>,\n",
       " <div class=\"tsp-fr tsp-fs tsp-cpd tsp-cbd\" jsname=\"HNKBQd\"><div class=\"tsp-led\" role=\"button\" tabindex=\"0\"><div><div><div class=\"tsp-w tsp-dib tsp-fs tsp-eds\"><div class=\"tsp-di\"><div class=\"tsp-di\"><span class=\"tsp-fm\">First round</span><span class=\"tsp-fl tsp-sp\" role=\"separator\">·</span><span class=\"tsp-lo\">Court Simonne-Mathieu</span></div></div><div class=\"tsp-sts tsp-pr\"><span class=\"tsp-sis tsp-frs tsp-dnil\" style=\"height:16px;line-height:16px;width:16px;fill:currentColor\"><svg style=\"display:block;height:100%;width:100%\" viewbox=\"0 0 24 24\" xmlns=\"http://www.w3.org/2000/svg\"><path d=\"M10 6L8.59 7.41 13.17 12l-4.58 4.59L10 18l6-6z\"></path><path d=\"M0 0h24v24H0z\" fill=\"none\"></path></svg></span><span class=\"tsp-fm\">Final</span></div></div></div></div><div><table class=\"tsp-flr tsp-tpt tsp-tbl\"><colgroup><col class=\"tsp-flc\"/><col class=\"tsp-cs\"/><col class=\"tsp-w tsp-flr tsp-nm\"/><col class=\"tsp-flr tsp-st\"/><col class=\"tsp-flr tsp-st\"/><col class=\"tsp-flr tsp-st\"/><col class=\"tsp-mi\"/></colgroup><tbody><tr class=\"tsp-sg\"><th class=\"tsp-flc\" role=\"rowheader\"><div><img alt=\"Canada\" class=\"tsp-vm\" height=\"24\" role=\"img\" src=\"//ssl.gstatic.com/onebox/media/sports/logos/H23oIEP6qK-zNc3O8abnIA_48x48.png\"/></div></th><td class=\"tsp-cs\"><span class=\"tsp-fs tsp-lo\">10</span></td><td class=\"tsp-w tsp-flr tsp-nm\"><div><span class=\"tsp-nd tsp-db tsp-el tsp-lo\">F. Auger-Aliassime</span></div></td><td class=\"tsp-flr tsp-st\"><div class=\"tsp-nf\"><span class=\"tsp-lo\">4</span></div></td><td class=\"tsp-flr tsp-st\"><div class=\"tsp-nf\"><span class=\"tsp-lo\">4</span></div></td><td class=\"tsp-flr tsp-st\"><div class=\"tsp-nf\"><span class=\"tsp-lo\">3</span></div></td><td class=\"tsp-mi\"><span></span></td></tr><tr class=\"tsp-sg\"><th class=\"tsp-flc\" role=\"rowheader\"><div><img alt=\"Italy\" class=\"tsp-vm\" height=\"24\" role=\"img\" src=\"//ssl.gstatic.com/onebox/media/sports/logos/joYpsiaYi4GDCqhSRAq5Zg_48x48.png\"/></div></th><td class=\"tsp-cs\"></td><td class=\"tsp-w tsp-flr tsp-nm\"><div><span class=\"tsp-nd tsp-db tsp-el\">F. Fognini</span></div></td><td class=\"tsp-flr tsp-st\"><div class=\"tsp-nf\"><span>6</span></div></td><td class=\"tsp-flr tsp-st\"><div class=\"tsp-nf\"><span>6</span></div></td><td class=\"tsp-flr tsp-st\"><div class=\"tsp-nf\"><span>6</span></div></td><td class=\"tsp-mi\"><span class=\"tsp-wi\"></span></td></tr></tbody></table></div></div><div role=\"button\" tabindex=\"0\"><div><a class=\"tsp-ci tsp-lntd\" data-jsarwt=\"1\" data-usg=\"AOvVaw07HOw0uz7SsFnyRiCdbPys\" data-ved=\"2ahUKEwjavZL6l5v_AhXJRkEAHSipBmQQisIEegQIARAV\" href=\"https://www.eurosport.com/tennis/roland-garros/2023/fognini-v-auger-aliassime-roland-garros-highlights_vid1921181/video.shtml\"><div class=\"tsp-vc\"><div class=\"tsp-vct\"><span class=\"tsp-flr tsp-dib\">Video highlights</span><span role=\"separator\"> · </span><span class=\"tsp-fs tsp-lo tsp-dib\">3 hours ago</span></div><div class=\"tsp-tvt\" style=\"min-width:74px;max-height:41px\"><div><div class=\"VrVlic\"><img alt=\"\" class=\"Jrnjfd\" src=\"//ssl.gstatic.com/onebox/media/sports/videos/vita/d28yohKFv-gv9MRH_96x54.jpg\" style=\"width:74px;height:41px\"/><div class=\"tsp-tca\"><div class=\"OvpUqc\"><div class=\"tsp-tcat\">FOGNINI V AUGER-ALIASSIME - ROLAND-GARROS HIGHLIGHTS · 3:15</div></div></div></div></div></div></div></a></div></div></div>,\n",
       " <div class=\"tsp-fr tsp-fs tsp-cpd tsp-cbd\" jsname=\"HNKBQd\"><div class=\"tsp-led\" role=\"button\" tabindex=\"0\"><div><div><div class=\"tsp-w tsp-dib tsp-fs tsp-eds\"><div class=\"tsp-di\"><div class=\"tsp-di\"><span class=\"tsp-fm\">First round</span><span class=\"tsp-fl tsp-sp\" role=\"separator\">·</span><span class=\"tsp-lo\">Court 12</span></div></div><div class=\"tsp-sts tsp-pr\"><span class=\"tsp-sis tsp-frs tsp-dnil\" style=\"height:16px;line-height:16px;width:16px;fill:currentColor\"><svg style=\"display:block;height:100%;width:100%\" viewbox=\"0 0 24 24\" xmlns=\"http://www.w3.org/2000/svg\"><path d=\"M10 6L8.59 7.41 13.17 12l-4.58 4.59L10 18l6-6z\"></path><path d=\"M0 0h24v24H0z\" fill=\"none\"></path></svg></span><span class=\"tsp-fm\">Final</span></div></div></div></div><div><table class=\"tsp-flr tsp-tpt tsp-tbl\"><colgroup><col class=\"tsp-flc\"/><col class=\"tsp-cs\"/><col class=\"tsp-w tsp-flr tsp-nm\"/><col class=\"tsp-flr tsp-st\"/><col class=\"tsp-flr tsp-st\"/><col class=\"tsp-flr tsp-st\"/><col class=\"tsp-mi\"/></colgroup><tbody><tr class=\"tsp-sg\"><th class=\"tsp-flc\" role=\"rowheader\"><div><img alt=\"Spain\" class=\"tsp-vm\" height=\"24\" role=\"img\" src=\"//ssl.gstatic.com/onebox/media/sports/logos/5hLkf7KFHhmpaiOJQv8LmA_48x48.png\"/></div></th><td class=\"tsp-cs\"><span class=\"tsp-fs tsp-lo\">19</span></td><td class=\"tsp-w tsp-flr tsp-nm\"><div><span class=\"tsp-nd tsp-db tsp-el\">R. Bautista Agut</span></div></td><td class=\"tsp-flr tsp-st\"><div class=\"tsp-nf\"><span>7</span><span class=\"tsp-t\">7</span></div></td><td class=\"tsp-flr tsp-st\"><div class=\"tsp-nf\"><span>6</span></div></td><td class=\"tsp-flr tsp-st\"><div class=\"tsp-nf\"><span>6</span></div></td><td class=\"tsp-mi\"><span class=\"tsp-wi\"></span></td></tr><tr class=\"tsp-sg\"><th class=\"tsp-flc\" role=\"rowheader\"><div><img alt=\"China\" class=\"tsp-vm\" height=\"24\" role=\"img\" src=\"//ssl.gstatic.com/onebox/media/sports/logos/8Cr5Gw-79PpIX2rIEZ7Pvg_48x48.png\"/></div></th><td class=\"tsp-cs\"></td><td class=\"tsp-w tsp-flr tsp-nm\"><div><span class=\"tsp-nd tsp-db tsp-el tsp-lo\">Y. Wu</span></div></td><td class=\"tsp-flr tsp-st\"><div class=\"tsp-nf\"><span class=\"tsp-lo\">6</span><span class=\"tsp-t tsp-lo\">4</span></div></td><td class=\"tsp-flr tsp-st\"><div class=\"tsp-nf\"><span class=\"tsp-lo\">1</span></div></td><td class=\"tsp-flr tsp-st\"><div class=\"tsp-nf\"><span class=\"tsp-lo\">1</span></div></td><td class=\"tsp-mi\"><span></span></td></tr></tbody></table></div></div><div role=\"button\" tabindex=\"0\"><div><a class=\"tsp-ci tsp-lntd\" data-jsarwt=\"1\" data-usg=\"AOvVaw3MUnI_rCf4CFUDIsto2VNg\" data-ved=\"2ahUKEwjavZL6l5v_AhXJRkEAHSipBmQQisIEegQIARAZ\" href=\"https://www.eurosport.com/tennis/roland-garros/2023/bautista-agut-v-wu-roland-garros-highlights_vid1921269/video.shtml\"><div class=\"tsp-vc\"><div class=\"tsp-vct\"><span class=\"tsp-flr tsp-dib\">Video highlights</span><span role=\"separator\"> · </span><span class=\"tsp-fs tsp-lo tsp-dib\">3 hours ago</span></div><div class=\"tsp-tvt\" style=\"min-width:74px;max-height:41px\"><div><div class=\"VrVlic\"><img alt=\"\" class=\"Jrnjfd\" src=\"//ssl.gstatic.com/onebox/media/sports/videos/vita/uzLvyDmRJeD9DXUM_96x54.jpg\" style=\"width:74px;height:41px\"/><div class=\"tsp-tca\"><div class=\"OvpUqc\"><div class=\"tsp-tcat\">BAUTISTA AGUT V WU - ROLAND-GARROS HIGHLIGHTS · 3:23</div></div></div></div></div></div></div></a></div></div></div>,\n",
       " <div class=\"tsp-fr tsp-fs tsp-cpd tsp-cbd\" jsname=\"HNKBQd\"><div class=\"tsp-led\" role=\"button\" tabindex=\"0\"><div><div><div class=\"tsp-w tsp-dib tsp-fs tsp-eds\"><div class=\"tsp-di\"><div class=\"tsp-di\"><span class=\"tsp-fm\">First round</span><span class=\"tsp-fl tsp-sp\" role=\"separator\">·</span><span class=\"tsp-lo\">Court 8</span></div></div><div class=\"tsp-sts tsp-pr\"><span class=\"tsp-sis tsp-frs tsp-dnil\" style=\"height:16px;line-height:16px;width:16px;fill:currentColor\"><svg style=\"display:block;height:100%;width:100%\" viewbox=\"0 0 24 24\" xmlns=\"http://www.w3.org/2000/svg\"><path d=\"M10 6L8.59 7.41 13.17 12l-4.58 4.59L10 18l6-6z\"></path><path d=\"M0 0h24v24H0z\" fill=\"none\"></path></svg></span><span class=\"tsp-fm\">Final</span></div></div></div></div><div><table class=\"tsp-flr tsp-tpt tsp-tbl\"><colgroup><col class=\"tsp-flc\"/><col class=\"tsp-cs\"/><col class=\"tsp-w tsp-flr tsp-nm\"/><col class=\"tsp-flr tsp-st\"/><col class=\"tsp-flr tsp-st\"/><col class=\"tsp-flr tsp-st\"/><col class=\"tsp-flr tsp-st\"/><col class=\"tsp-mi\"/></colgroup><tbody><tr class=\"tsp-sg\"><th class=\"tsp-flc\" role=\"rowheader\"><div><img alt=\"Australia\" class=\"tsp-vm\" height=\"24\" role=\"img\" src=\"//ssl.gstatic.com/onebox/media/sports/logos/jSgw5z0EPOLzdUi-Aomq7Q_48x48.png\"/></div></th><td class=\"tsp-cs\"></td><td class=\"tsp-w tsp-flr tsp-nm\"><div><span class=\"tsp-nd tsp-db tsp-el tsp-lo\">A. Popyrin</span></div></td><td class=\"tsp-flr tsp-st\"><div class=\"tsp-nf\"><span class=\"tsp-lo\">3</span></div></td><td class=\"tsp-flr tsp-st\"><div class=\"tsp-nf\"><span>7</span><span class=\"tsp-t\">7</span></div></td><td class=\"tsp-flr tsp-st\"><div class=\"tsp-nf\"><span class=\"tsp-lo\">1</span></div></td><td class=\"tsp-flr tsp-st\"><div class=\"tsp-nf\"><span class=\"tsp-lo\">2</span></div></td><td class=\"tsp-mi\"><span></span></td></tr><tr class=\"tsp-sg\"><th class=\"tsp-flc\" role=\"rowheader\"></th><td class=\"tsp-cs\"></td><td class=\"tsp-w tsp-flr tsp-nm\"><div><span class=\"tsp-nd tsp-db tsp-el\">A. Karatsev</span></div></td><td class=\"tsp-flr tsp-st\"><div class=\"tsp-nf\"><span>6</span></div></td><td class=\"tsp-flr tsp-st\"><div class=\"tsp-nf\"><span class=\"tsp-lo\">6</span><span class=\"tsp-t tsp-lo\">4</span></div></td><td class=\"tsp-flr tsp-st\"><div class=\"tsp-nf\"><span>6</span></div></td><td class=\"tsp-flr tsp-st\"><div class=\"tsp-nf\"><span>6</span></div></td><td class=\"tsp-mi\"><span class=\"tsp-wi\"></span></td></tr></tbody></table></div></div><div role=\"button\" tabindex=\"0\"><div><a class=\"tsp-ci tsp-lntd\" data-jsarwt=\"1\" data-usg=\"AOvVaw2_YDzxGiEogFWugp0jWWfk\" data-ved=\"2ahUKEwjavZL6l5v_AhXJRkEAHSipBmQQisIEegQIARAb\" href=\"https://www.eurosport.com/tennis/roland-garros/2023/popyrin-v-karatsev-roland-garros-highlights_vid1921215/video.shtml\"><div class=\"tsp-vc\"><div class=\"tsp-vct\"><span class=\"tsp-flr tsp-dib\">Video highlights</span><span role=\"separator\"> · </span><span class=\"tsp-fs tsp-lo tsp-dib\">3 hours ago</span></div><div class=\"tsp-tvt\" style=\"min-width:74px;max-height:41px\"><div><div class=\"VrVlic\"><img alt=\"\" class=\"Jrnjfd\" src=\"//ssl.gstatic.com/onebox/media/sports/videos/vita/ezZZNm5X3akUPw_U_96x54.jpg\" style=\"width:74px;height:41px\"/><div class=\"tsp-tca\"><div class=\"OvpUqc\"><div class=\"tsp-tcat\">POPYRIN V KARATSEV - ROLAND-GARROS HIGHLIGHTS · 3:07</div></div></div></div></div></div></div></a></div></div></div>,\n",
       " <div class=\"tsp-fr tsp-fs tsp-cpd tsp-cbd\" jsname=\"HNKBQd\"><div class=\"tsp-led\" role=\"button\" tabindex=\"0\"><div><div><div class=\"tsp-w tsp-dib tsp-fs tsp-eds\"><div class=\"tsp-di\"><div class=\"tsp-di\"><span class=\"tsp-fm\">First round</span><span class=\"tsp-fl tsp-sp\" role=\"separator\">·</span><span class=\"tsp-lo\">Court 9</span></div></div><div class=\"tsp-sts tsp-pr\"><span class=\"tsp-sis tsp-frs tsp-dnil\" style=\"height:16px;line-height:16px;width:16px;fill:currentColor\"><svg style=\"display:block;height:100%;width:100%\" viewbox=\"0 0 24 24\" xmlns=\"http://www.w3.org/2000/svg\"><path d=\"M10 6L8.59 7.41 13.17 12l-4.58 4.59L10 18l6-6z\"></path><path d=\"M0 0h24v24H0z\" fill=\"none\"></path></svg></span><span>Walkover</span></div></div></div></div><div><table class=\"tsp-flr tsp-tpt tsp-tbl\"><colgroup><col class=\"tsp-flc\"/><col class=\"tsp-cs\"/><col class=\"tsp-w tsp-flr tsp-nm\"/><col class=\"tsp-flr tsp-st\"/><col class=\"tsp-flr tsp-st\"/><col class=\"tsp-mi\"/></colgroup><tbody><tr class=\"tsp-sg\"><th class=\"tsp-flc\" role=\"rowheader\"><div><img alt=\"United Kingdom\" class=\"tsp-vm\" height=\"24\" role=\"img\" src=\"//ssl.gstatic.com/onebox/media/sports/logos/6HRpt1RF_AbDUftxgVUoEw_48x48.png\"/></div></th><td class=\"tsp-cs\"></td><td class=\"tsp-w tsp-flr tsp-nm\"><div><span class=\"tsp-nd tsp-db tsp-el tsp-lo\">J. Draper</span></div></td><td class=\"tsp-flr tsp-st\"><div class=\"tsp-nf\"><span class=\"tsp-lo\">4</span></div></td><td class=\"tsp-flr tsp-st\"><div class=\"tsp-nf\"><span class=\"tsp-lo\">0</span></div></td><td class=\"tsp-mi\"><span></span></td></tr><tr class=\"tsp-sg\"><th class=\"tsp-flc\" role=\"rowheader\"><div><img alt=\"Argentina\" class=\"tsp-vm\" height=\"24\" role=\"img\" src=\"//ssl.gstatic.com/onebox/media/sports/logos/1xBWyjjkA6vEWopPK3lIPA_48x48.png\"/></div></th><td class=\"tsp-cs\"></td><td class=\"tsp-w tsp-flr tsp-nm\"><div><span class=\"tsp-nd tsp-db tsp-el\">T. Etcheverry</span></div></td><td class=\"tsp-flr tsp-st\"><div class=\"tsp-nf\"><span>6</span></div></td><td class=\"tsp-flr tsp-st\"><div class=\"tsp-nf\"><span>1</span></div></td><td class=\"tsp-mi\"><span class=\"tsp-wi\"></span></td></tr></tbody></table></div></div><div role=\"button\" tabindex=\"0\"><div><a class=\"tsp-ci tsp-lntd\" data-jsarwt=\"1\" data-usg=\"AOvVaw1Dc0ufcs-WknnOfr3hlsrd\" data-ved=\"2ahUKEwjavZL6l5v_AhXJRkEAHSipBmQQisIEegQIARAf\" href=\"https://www.eurosport.com/tennis/roland-garros/2023/etcheverry-v-draper-roland-garros-highlights_vid1920992/video.shtml\"><div class=\"tsp-vc\"><div class=\"tsp-vct\"><span class=\"tsp-flr tsp-dib\">Video highlights</span><span role=\"separator\"> · </span><span class=\"tsp-fs tsp-lo tsp-dib\">4 hours ago</span></div><div class=\"tsp-tvt\" style=\"min-width:74px;max-height:41px\"><div><div class=\"VrVlic\"><img alt=\"\" class=\"Jrnjfd\" src=\"//ssl.gstatic.com/onebox/media/sports/videos/vita/bi9pXB2CQOCjvWis_96x54.jpg\" style=\"width:74px;height:41px\"/><div class=\"tsp-tca\"><div class=\"OvpUqc\"><div class=\"tsp-tcat\">ETCHEVERRY V DRAPER - ROLAND-GARROS HIGHLIGHTS · 3:21</div></div></div></div></div></div></div></a></div></div></div>,\n",
       " <div class=\"tsp-fr tsp-fs tsp-cpd tsp-cbd\" jsname=\"HNKBQd\"><div class=\"tsp-led\" role=\"button\" tabindex=\"0\"><div><div><div class=\"tsp-w tsp-dib tsp-fs tsp-eds\"><div class=\"tsp-di\"><div class=\"tsp-di\"><span class=\"tsp-fm\">First round</span><span class=\"tsp-fl tsp-sp\" role=\"separator\">·</span><span class=\"tsp-lo\">Court  13</span></div></div><div class=\"tsp-sts tsp-pr\"><span class=\"tsp-sis tsp-frs tsp-dnil\" style=\"height:16px;line-height:16px;width:16px;fill:currentColor\"><svg style=\"display:block;height:100%;width:100%\" viewbox=\"0 0 24 24\" xmlns=\"http://www.w3.org/2000/svg\"><path d=\"M10 6L8.59 7.41 13.17 12l-4.58 4.59L10 18l6-6z\"></path><path d=\"M0 0h24v24H0z\" fill=\"none\"></path></svg></span><span class=\"tsp-fm\">Final</span></div></div></div></div><div><table class=\"tsp-flr tsp-tpt tsp-tbl\"><colgroup><col class=\"tsp-flc\"/><col class=\"tsp-cs\"/><col class=\"tsp-w tsp-flr tsp-nm\"/><col class=\"tsp-flr tsp-st\"/><col class=\"tsp-flr tsp-st\"/><col class=\"tsp-flr tsp-st\"/><col class=\"tsp-flr tsp-st\"/><col class=\"tsp-flr tsp-st\"/><col class=\"tsp-mi\"/></colgroup><tbody><tr class=\"tsp-sg\"><th class=\"tsp-flc\" role=\"rowheader\"><div><img alt=\"Spain\" class=\"tsp-vm\" height=\"24\" role=\"img\" src=\"//ssl.gstatic.com/onebox/media/sports/logos/5hLkf7KFHhmpaiOJQv8LmA_48x48.png\"/></div></th><td class=\"tsp-cs\"><span class=\"tsp-fs tsp-lo\">32</span></td><td class=\"tsp-w tsp-flr tsp-nm\"><div><span class=\"tsp-nd tsp-db tsp-el tsp-lo\">B. Zapata Miralles</span></div></td><td class=\"tsp-flr tsp-st\"><div class=\"tsp-nf\"><span>6</span></div></td><td class=\"tsp-flr tsp-st\"><div class=\"tsp-nf\"><span>7</span><span class=\"tsp-t\">7</span></div></td><td class=\"tsp-flr tsp-st\"><div class=\"tsp-nf\"><span class=\"tsp-lo\">2</span></div></td><td class=\"tsp-flr tsp-st\"><div class=\"tsp-nf\"><span class=\"tsp-lo\">0</span></div></td><td class=\"tsp-flr tsp-st\"><div class=\"tsp-nf\"><span class=\"tsp-lo\">4</span></div></td><td class=\"tsp-mi\"><span></span></td></tr><tr class=\"tsp-sg\"><th class=\"tsp-flc\" role=\"rowheader\"><div><img alt=\"Argentina\" class=\"tsp-vm\" height=\"24\" role=\"img\" src=\"//ssl.gstatic.com/onebox/media/sports/logos/1xBWyjjkA6vEWopPK3lIPA_48x48.png\"/></div></th><td class=\"tsp-cs\"></td><td class=\"tsp-w tsp-flr tsp-nm\"><div><span class=\"tsp-nd tsp-db tsp-el\">D. Schwartzman</span></div></td><td class=\"tsp-flr tsp-st\"><div class=\"tsp-nf\"><span class=\"tsp-lo\">1</span></div></td><td class=\"tsp-flr tsp-st\"><div class=\"tsp-nf\"><span class=\"tsp-lo\">6</span><span class=\"tsp-t tsp-lo\">5</span></div></td><td class=\"tsp-flr tsp-st\"><div class=\"tsp-nf\"><span>6</span></div></td><td class=\"tsp-flr tsp-st\"><div class=\"tsp-nf\"><span>6</span></div></td><td class=\"tsp-flr tsp-st\"><div class=\"tsp-nf\"><span>6</span></div></td><td class=\"tsp-mi\"><span class=\"tsp-wi\"></span></td></tr></tbody></table></div></div><div role=\"button\" tabindex=\"0\"><div><a class=\"tsp-ci tsp-lntd\" data-jsarwt=\"1\" data-usg=\"AOvVaw2DFyChcAjlI5d5KVTngfU3\" data-ved=\"2ahUKEwjavZL6l5v_AhXJRkEAHSipBmQQisIEegQIARAh\" href=\"https://www.eurosport.com/tennis/roland-garros/2023/zapata-miralles-v-schwartzman-roland-garros-highlights_vid1921101/video.shtml\"><div class=\"tsp-vc\"><div class=\"tsp-vct\"><span class=\"tsp-flr tsp-dib\">Video highlights</span><span role=\"separator\"> · </span><span class=\"tsp-fs tsp-lo tsp-dib\">3 hours ago</span></div><div class=\"tsp-tvt\" style=\"min-width:74px;max-height:41px\"><div><div class=\"VrVlic\"><img alt=\"\" class=\"Jrnjfd\" src=\"//ssl.gstatic.com/onebox/media/sports/videos/vita/fWxci3bcEQlhidz9_96x54.jpg\" style=\"width:74px;height:41px\"/><div class=\"tsp-tca\"><div class=\"OvpUqc\"><div class=\"tsp-tcat\">ZAPATA MIRALLES V SCHWARTZMAN - ROLAND-GARROS HIGHLIGHTS · 3:27</div></div></div></div></div></div></div></a></div></div></div>,\n",
       " <div class=\"tsp-fr tsp-fs tsp-cpd tsp-cbd\" jsname=\"HNKBQd\"><div class=\"tsp-led\" role=\"button\" tabindex=\"0\"><div><div><div class=\"tsp-w tsp-dib tsp-fs tsp-eds\"><div class=\"tsp-di\"><div class=\"tsp-di\"><span class=\"tsp-fm\">First round</span><span class=\"tsp-fl tsp-sp\" role=\"separator\">·</span><span class=\"tsp-lo\">Court Suzanne Lenglen</span></div></div><div class=\"tsp-sts tsp-pr\"><span class=\"tsp-sis tsp-frs tsp-dnil\" style=\"height:16px;line-height:16px;width:16px;fill:currentColor\"><svg style=\"display:block;height:100%;width:100%\" viewbox=\"0 0 24 24\" xmlns=\"http://www.w3.org/2000/svg\"><path d=\"M10 6L8.59 7.41 13.17 12l-4.58 4.59L10 18l6-6z\"></path><path d=\"M0 0h24v24H0z\" fill=\"none\"></path></svg></span><span class=\"tsp-fm\">Final</span></div></div></div></div><div><table class=\"tsp-flr tsp-tpt tsp-tbl\"><colgroup><col class=\"tsp-flc\"/><col class=\"tsp-cs\"/><col class=\"tsp-w tsp-flr tsp-nm\"/><col class=\"tsp-flr tsp-st\"/><col class=\"tsp-flr tsp-st\"/><col class=\"tsp-flr tsp-st\"/><col class=\"tsp-flr tsp-st\"/><col class=\"tsp-flr tsp-st\"/><col class=\"tsp-mi\"/></colgroup><tbody><tr class=\"tsp-sg\"><th class=\"tsp-flc\" role=\"rowheader\"><div><img alt=\"France\" class=\"tsp-vm\" height=\"24\" role=\"img\" src=\"//ssl.gstatic.com/onebox/media/sports/logos/z3JEQB3coEAGLCJBEUzQ2A_48x48.png\"/></div></th><td class=\"tsp-cs\"></td><td class=\"tsp-w tsp-flr tsp-nm\"><div><span class=\"tsp-nd tsp-db tsp-el tsp-lo\">B. Paire</span></div></td><td class=\"tsp-flr tsp-st\"><div class=\"tsp-nf\"><span class=\"tsp-lo\">5</span></div></td><td class=\"tsp-flr tsp-st\"><div class=\"tsp-nf\"><span>6</span></div></td><td class=\"tsp-flr tsp-st\"><div class=\"tsp-nf\"><span>6</span></div></td><td class=\"tsp-flr tsp-st\"><div class=\"tsp-nf\"><span class=\"tsp-lo\">1</span></div></td><td class=\"tsp-flr tsp-st\"><div class=\"tsp-nf\"><span class=\"tsp-lo\">4</span></div></td><td class=\"tsp-mi\"><span></span></td></tr><tr class=\"tsp-sg\"><th class=\"tsp-flc\" role=\"rowheader\"><div><img alt=\"United Kingdom\" class=\"tsp-vm\" height=\"24\" role=\"img\" src=\"//ssl.gstatic.com/onebox/media/sports/logos/6HRpt1RF_AbDUftxgVUoEw_48x48.png\"/></div></th><td class=\"tsp-cs\"><span class=\"tsp-fs tsp-lo\">14</span></td><td class=\"tsp-w tsp-flr tsp-nm\"><div><span class=\"tsp-nd tsp-db tsp-el\">C. Norrie</span></div></td><td class=\"tsp-flr tsp-st\"><div class=\"tsp-nf\"><span>7</span></div></td><td class=\"tsp-flr tsp-st\"><div class=\"tsp-nf\"><span class=\"tsp-lo\">4</span></div></td><td class=\"tsp-flr tsp-st\"><div class=\"tsp-nf\"><span class=\"tsp-lo\">3</span></div></td><td class=\"tsp-flr tsp-st\"><div class=\"tsp-nf\"><span>6</span></div></td><td class=\"tsp-flr tsp-st\"><div class=\"tsp-nf\"><span>6</span></div></td><td class=\"tsp-mi\"><span class=\"tsp-wi\"></span></td></tr></tbody></table></div></div><div role=\"button\" tabindex=\"0\"><div><a class=\"tsp-ci tsp-lntd\" data-jsarwt=\"1\" data-usg=\"AOvVaw2-3XWXPJ8CVyJqGpdsIgRC\" data-ved=\"2ahUKEwjavZL6l5v_AhXJRkEAHSipBmQQisIEegQIARAl\" href=\"https://www.eurosport.com/tennis/roland-garros/2023/paire-v-norrie-roland-garros-highlights_vid1921088/video.shtml\"><div class=\"tsp-vc\"><div class=\"tsp-vct\"><span class=\"tsp-flr tsp-dib\">Video highlights</span><span role=\"separator\"> · </span><span class=\"tsp-fs tsp-lo tsp-dib\">3 hours ago</span></div><div class=\"tsp-tvt\" style=\"min-width:74px;max-height:41px\"><div><div class=\"VrVlic\"><img alt=\"\" class=\"Jrnjfd\" src=\"//ssl.gstatic.com/onebox/media/sports/videos/vita/M1RgcLPFoSZOD8HW_96x54.jpg\" style=\"width:74px;height:41px\"/><div class=\"tsp-tca\"><div class=\"OvpUqc\"><div class=\"tsp-tcat\">PAIRE V NORRIE - ROLAND-GARROS HIGHLIGHTS · 3:15</div></div></div></div></div></div></div></a></div></div></div>,\n",
       " <div class=\"tsp-fr tsp-fs tsp-cpd tsp-cbd\" jsname=\"HNKBQd\"><div class=\"tsp-led\" role=\"button\" tabindex=\"0\"><div><div><div class=\"tsp-w tsp-dib tsp-fs tsp-eds\"><div class=\"tsp-di\"><div class=\"tsp-di\"><span class=\"tsp-fm\">First round</span><span class=\"tsp-fl tsp-sp\" role=\"separator\">·</span><span class=\"tsp-lo\">Court 6</span></div></div><div class=\"tsp-sts tsp-pr\"><span class=\"tsp-sis tsp-frs tsp-dnil\" style=\"height:16px;line-height:16px;width:16px;fill:currentColor\"><svg style=\"display:block;height:100%;width:100%\" viewbox=\"0 0 24 24\" xmlns=\"http://www.w3.org/2000/svg\"><path d=\"M10 6L8.59 7.41 13.17 12l-4.58 4.59L10 18l6-6z\"></path><path d=\"M0 0h24v24H0z\" fill=\"none\"></path></svg></span><span class=\"tsp-fm\">Final</span></div></div></div></div><div class=\"tsp-tres\"><table class=\"tsp-flr tsp-tpt tsp-tbl\"><colgroup><col class=\"tsp-flc\"/><col class=\"tsp-cs\"/><col class=\"tsp-w tsp-flr tsp-nm\"/><col class=\"tsp-flr tsp-st\"/><col class=\"tsp-flr tsp-st\"/><col class=\"tsp-flr tsp-st\"/><col class=\"tsp-flr tsp-st\"/><col class=\"tsp-mi\"/></colgroup><tbody><tr class=\"tsp-sg\"><th class=\"tsp-flc\" role=\"rowheader\"></th><td class=\"tsp-cs\"></td><td class=\"tsp-w tsp-flr tsp-nm\"><div><span class=\"tsp-nd tsp-db tsp-el tsp-lo\">I. Ivashka</span></div></td><td class=\"tsp-flr tsp-st\"><div class=\"tsp-nf\"><span class=\"tsp-lo\">1</span></div></td><td class=\"tsp-flr tsp-st\"><div class=\"tsp-nf\"><span>7</span></div></td><td class=\"tsp-flr tsp-st\"><div class=\"tsp-nf\"><span class=\"tsp-lo\">1</span></div></td><td class=\"tsp-flr tsp-st\"><div class=\"tsp-nf\"><span class=\"tsp-lo\">3</span></div></td><td class=\"tsp-mi\"><span></span></td></tr><tr class=\"tsp-sg\"><th class=\"tsp-flc\" role=\"rowheader\"><div><img alt=\"Australia\" class=\"tsp-vm\" height=\"24\" role=\"img\" src=\"//ssl.gstatic.com/onebox/media/sports/logos/jSgw5z0EPOLzdUi-Aomq7Q_48x48.png\"/></div></th><td class=\"tsp-cs\"><span class=\"tsp-fs tsp-lo\">18</span></td><td class=\"tsp-w tsp-flr tsp-nm\"><div><span class=\"tsp-nd tsp-db tsp-el\">A. de Minaur</span></div></td><td class=\"tsp-flr tsp-st\"><div class=\"tsp-nf\"><span>6</span></div></td><td class=\"tsp-flr tsp-st\"><div class=\"tsp-nf\"><span class=\"tsp-lo\">5</span></div></td><td class=\"tsp-flr tsp-st\"><div class=\"tsp-nf\"><span>6</span></div></td><td class=\"tsp-flr tsp-st\"><div class=\"tsp-nf\"><span>6</span></div></td><td class=\"tsp-mi\"><span class=\"tsp-wi\"></span></td></tr></tbody></table></div></div></div>,\n",
       " <div class=\"tsp-fr tsp-fs tsp-cpd tsp-cbd\" jsname=\"HNKBQd\"><div class=\"tsp-led\" role=\"button\" tabindex=\"0\"><div><div><div class=\"tsp-w tsp-dib tsp-fs tsp-eds\"><div class=\"tsp-di\"><div class=\"tsp-di\"><span class=\"tsp-fm\">First round</span><span class=\"tsp-fl tsp-sp\" role=\"separator\">·</span><span class=\"tsp-lo\">Court 5</span></div></div><div class=\"tsp-sts tsp-pr\"><span class=\"tsp-sis tsp-frs tsp-dnil\" style=\"height:16px;line-height:16px;width:16px;fill:currentColor\"><svg style=\"display:block;height:100%;width:100%\" viewbox=\"0 0 24 24\" xmlns=\"http://www.w3.org/2000/svg\"><path d=\"M10 6L8.59 7.41 13.17 12l-4.58 4.59L10 18l6-6z\"></path><path d=\"M0 0h24v24H0z\" fill=\"none\"></path></svg></span><span class=\"tsp-fm\">Final</span></div></div></div></div><div class=\"tsp-tres\"><table class=\"tsp-flr tsp-tpt tsp-tbl\"><colgroup><col class=\"tsp-flc\"/><col class=\"tsp-cs\"/><col class=\"tsp-w tsp-flr tsp-nm\"/><col class=\"tsp-flr tsp-st\"/><col class=\"tsp-flr tsp-st\"/><col class=\"tsp-flr tsp-st\"/><col class=\"tsp-flr tsp-st\"/><col class=\"tsp-flr tsp-st\"/><col class=\"tsp-mi\"/></colgroup><tbody><tr class=\"tsp-sg\"><th class=\"tsp-flc\" role=\"rowheader\"><div><img alt=\"China\" class=\"tsp-vm\" height=\"24\" role=\"img\" src=\"//ssl.gstatic.com/onebox/media/sports/logos/8Cr5Gw-79PpIX2rIEZ7Pvg_48x48.png\"/></div></th><td class=\"tsp-cs\"></td><td class=\"tsp-w tsp-flr tsp-nm\"><div><span class=\"tsp-nd tsp-db tsp-el tsp-lo\">J.C. Shang</span></div></td><td class=\"tsp-flr tsp-st\"><div class=\"tsp-nf\"><span>6</span></div></td><td class=\"tsp-flr tsp-st\"><div class=\"tsp-nf\"><span>6</span></div></td><td class=\"tsp-flr tsp-st\"><div class=\"tsp-nf\"><span class=\"tsp-lo\">2</span></div></td><td class=\"tsp-flr tsp-st\"><div class=\"tsp-nf\"><span class=\"tsp-lo\">3</span></div></td><td class=\"tsp-flr tsp-st\"><div class=\"tsp-nf\"><span class=\"tsp-lo\">1</span></div></td><td class=\"tsp-mi\"><span></span></td></tr><tr class=\"tsp-sg\"><th class=\"tsp-flc\" role=\"rowheader\"><div><img alt=\"Peru\" class=\"tsp-vm\" height=\"24\" role=\"img\" src=\"//ssl.gstatic.com/onebox/media/sports/logos/U08wYdQptUaWuweG82L3dw_48x48.png\"/></div></th><td class=\"tsp-cs\"></td><td class=\"tsp-w tsp-flr tsp-nm\"><div><span class=\"tsp-nd tsp-db tsp-el\">J. Varillas</span></div></td><td class=\"tsp-flr tsp-st\"><div class=\"tsp-nf\"><span class=\"tsp-lo\">4</span></div></td><td class=\"tsp-flr tsp-st\"><div class=\"tsp-nf\"><span class=\"tsp-lo\">2</span></div></td><td class=\"tsp-flr tsp-st\"><div class=\"tsp-nf\"><span>6</span></div></td><td class=\"tsp-flr tsp-st\"><div class=\"tsp-nf\"><span>6</span></div></td><td class=\"tsp-flr tsp-st\"><div class=\"tsp-nf\"><span>6</span></div></td><td class=\"tsp-mi\"><span class=\"tsp-wi\"></span></td></tr></tbody></table></div></div></div>,\n",
       " <div class=\"tsp-fr tsp-fs tsp-cpd tsp-cbd\" jsname=\"HNKBQd\"><div class=\"tsp-led\" role=\"button\" tabindex=\"0\"><div><div><div class=\"tsp-w tsp-dib tsp-fs tsp-eds\"><div class=\"tsp-di\"><div class=\"tsp-di\"><span class=\"tsp-fm\">First round</span><span class=\"tsp-fl tsp-sp\" role=\"separator\">·</span><span class=\"tsp-lo\">Court 7</span></div></div><div class=\"tsp-sts tsp-pr\"><span class=\"tsp-sis tsp-frs tsp-dnil\" style=\"height:16px;line-height:16px;width:16px;fill:currentColor\"><svg style=\"display:block;height:100%;width:100%\" viewbox=\"0 0 24 24\" xmlns=\"http://www.w3.org/2000/svg\"><path d=\"M10 6L8.59 7.41 13.17 12l-4.58 4.59L10 18l6-6z\"></path><path d=\"M0 0h24v24H0z\" fill=\"none\"></path></svg></span><span class=\"tsp-fm\">Final</span></div></div></div></div><div class=\"tsp-tres\"><table class=\"tsp-flr tsp-tpt tsp-tbl\"><colgroup><col class=\"tsp-flc\"/><col class=\"tsp-cs\"/><col class=\"tsp-w tsp-flr tsp-nm\"/><col class=\"tsp-flr tsp-st\"/><col class=\"tsp-flr tsp-st\"/><col class=\"tsp-flr tsp-st\"/><col class=\"tsp-flr tsp-st\"/><col class=\"tsp-flr tsp-st\"/><col class=\"tsp-mi\"/></colgroup><tbody><tr class=\"tsp-sg\"><th class=\"tsp-flc\" role=\"rowheader\"><div><img alt=\"United States\" class=\"tsp-vm\" height=\"24\" role=\"img\" src=\"//ssl.gstatic.com/onebox/media/sports/logos/wj9uZvn_vZrelLFGH8fnPA_48x48.png\"/></div></th><td class=\"tsp-cs\"></td><td class=\"tsp-w tsp-flr tsp-nm\"><div><span class=\"tsp-nd tsp-db tsp-el tsp-lo\">B. Nakashima</span></div></td><td class=\"tsp-flr tsp-st\"><div class=\"tsp-nf\"><span class=\"tsp-lo\">4</span></div></td><td class=\"tsp-flr tsp-st\"><div class=\"tsp-nf\"><span class=\"tsp-lo\">5</span></div></td><td class=\"tsp-flr tsp-st\"><div class=\"tsp-nf\"><span>6</span></div></td><td class=\"tsp-flr tsp-st\"><div class=\"tsp-nf\"><span>6</span></div></td><td class=\"tsp-flr tsp-st\"><div class=\"tsp-nf\"><span class=\"tsp-lo\">3</span></div></td><td class=\"tsp-mi\"><span></span></td></tr><tr class=\"tsp-sg\"><th class=\"tsp-flc\" role=\"rowheader\"><div><img alt=\"Canada\" class=\"tsp-vm\" height=\"24\" role=\"img\" src=\"//ssl.gstatic.com/onebox/media/sports/logos/H23oIEP6qK-zNc3O8abnIA_48x48.png\"/></div></th><td class=\"tsp-cs\"><span class=\"tsp-fs tsp-lo\">26</span></td><td class=\"tsp-w tsp-flr tsp-nm\"><div><span class=\"tsp-nd tsp-db tsp-el\">D. Shapovalov</span></div></td><td class=\"tsp-flr tsp-st\"><div class=\"tsp-nf\"><span>6</span></div></td><td class=\"tsp-flr tsp-st\"><div class=\"tsp-nf\"><span>7</span></div></td><td class=\"tsp-flr tsp-st\"><div class=\"tsp-nf\"><span class=\"tsp-lo\">4</span></div></td><td class=\"tsp-flr tsp-st\"><div class=\"tsp-nf\"><span class=\"tsp-lo\">3</span></div></td><td class=\"tsp-flr tsp-st\"><div class=\"tsp-nf\"><span>6</span></div></td><td class=\"tsp-mi\"><span class=\"tsp-wi\"></span></td></tr></tbody></table></div></div></div>,\n",
       " <div class=\"tsp-fr tsp-fs tsp-cpd tsp-cbd\" jsname=\"HNKBQd\"><div class=\"tsp-led\" role=\"button\" tabindex=\"0\"><div><div><div class=\"tsp-w tsp-dib tsp-fs tsp-eds\"><div class=\"tsp-di\"><div class=\"tsp-di\"><span class=\"tsp-fm\">First round</span></div></div><div class=\"tsp-sts tsp-pr\"><span class=\"tsp-ftr7 tsp-fm\">Cancelled</span></div></div></div></div><div class=\"tsp-tres\"><table class=\"tsp-flr tsp-tpt tsp-tbl\"><colgroup><col class=\"tsp-flc\"/><col class=\"tsp-cs\"/><col class=\"tsp-w tsp-flr tsp-nm\"/><col class=\"tsp-mi\"/></colgroup><tbody><tr class=\"tsp-sg\"><th class=\"tsp-flc\" role=\"rowheader\"><div><img alt=\"Brazil\" class=\"tsp-vm\" height=\"24\" role=\"img\" src=\"//ssl.gstatic.com/onebox/media/sports/logos/zKLzoJVYz0bb6oAnPUdwWQ_48x48.png\"/></div></th><td class=\"tsp-cs\"></td><td class=\"tsp-w tsp-flr tsp-nm\"><div><span class=\"tsp-nd tsp-db tsp-el\">T. Monteiro</span></div></td><td class=\"tsp-mi\"><span class=\"tsp-em\"></span></td></tr><tr class=\"tsp-sg\"><th class=\"tsp-flc\" role=\"rowheader\"><div><img alt=\"France\" class=\"tsp-vm\" height=\"24\" role=\"img\" src=\"//ssl.gstatic.com/onebox/media/sports/logos/z3JEQB3coEAGLCJBEUzQ2A_48x48.png\"/></div></th><td class=\"tsp-cs\"></td><td class=\"tsp-w tsp-flr tsp-nm\"><div><span class=\"tsp-nd tsp-db tsp-el\">B. Bonzi</span></div></td><td class=\"tsp-mi\"><span class=\"tsp-em\"></span></td></tr></tbody></table></div></div></div>,\n",
       " <div class=\"KgjLjc tsp-tz tsp-fs tsp-fm tsp-db imsodf\" data-async-context=\"async_id:duf3-123;authority:0;card_id:;entry_point:0;feature_id:;ftoe:0;header:0;is_jobs_spam_form:0;open:0;preselect_answer_index:-1;suggestions:;suggestions_subtypes:;suggestions_types:;surface:0;title:;type:123\" data-df-league-mid=\"/m/012xcl\" data-df-team-mid=\"/m/012xcl\" data-df-ui-type=\"SPORTS_TORSO_ONEBOX\"><div jsaction=\"rcuQ6b:npT2md\" jscontroller=\"EkevXb\" style=\"display:none\"></div><div class=\"yp\" data-async-context-required=\"type,open,feature_id,async_id,entry_point,authority,card_id,ftoe,title,header,suggestions,surface,suggestions_types,suggestions_subtypes,preselect_answer_index,is_jobs_spam_form\" data-async-type=\"duffy3\" data-jiis=\"up\" data-ved=\"2ahUKEwiCtJn5l5v_AhW8vJUCHXVaDToQ-0F6BAhGEEA\" id=\"duf3-123\"></div><a aria-label=\"Give feedback on this result\" class=\"oBa0Fe\" data-async-trigger=\"duf3-123\" data-ved=\"2ahUKEwiCtJn5l5v_AhW8vJUCHXVaDToQtw96BAhGEEE\" href=\"#\" jsaction=\"trigger.szjOR\" role=\"button\">Feedback</a></div>]"
      ]
     },
     "execution_count": 221,
     "metadata": {},
     "output_type": "execute_result"
    }
   ],
   "source": [
    "scorecards"
   ]
  },
  {
   "cell_type": "code",
   "execution_count": 194,
   "id": "16a2374e",
   "metadata": {
    "ExecuteTime": {
     "end_time": "2023-05-29T19:06:45.381722Z",
     "start_time": "2023-05-29T19:06:45.377171Z"
    }
   },
   "outputs": [],
   "source": [
    "def get_all_data_from_scorecard_html():\n",
    "    table_list = \"tsp-flr tsp-tpt tsp-tbl\".split()\n",
    "    match_table= soup.find_all(\"table\", class_ = table_list)\n",
    "    #FINISH ME"
   ]
  },
  {
   "cell_type": "code",
   "execution_count": null,
   "id": "37bb75aa",
   "metadata": {},
   "outputs": [],
   "source": []
  }
 ],
 "metadata": {
  "kernelspec": {
   "display_name": "Python 3 (ipykernel)",
   "language": "python",
   "name": "python3"
  },
  "language_info": {
   "codemirror_mode": {
    "name": "ipython",
    "version": 3
   },
   "file_extension": ".py",
   "mimetype": "text/x-python",
   "name": "python",
   "nbconvert_exporter": "python",
   "pygments_lexer": "ipython3",
   "version": "3.10.6"
  },
  "toc": {
   "base_numbering": 1,
   "nav_menu": {},
   "number_sections": true,
   "sideBar": true,
   "skip_h1_title": false,
   "title_cell": "Table of Contents",
   "title_sidebar": "Contents",
   "toc_cell": false,
   "toc_position": {},
   "toc_section_display": true,
   "toc_window_display": false
  }
 },
 "nbformat": 4,
 "nbformat_minor": 5
}
